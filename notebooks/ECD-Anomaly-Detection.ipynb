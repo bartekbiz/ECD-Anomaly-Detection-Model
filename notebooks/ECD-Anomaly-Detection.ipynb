{
 "cells": [
  {
   "cell_type": "code",
   "id": "initial_id",
   "metadata": {
    "collapsed": true,
    "ExecuteTime": {
     "end_time": "2024-06-07T10:16:38.139257Z",
     "start_time": "2024-06-07T10:16:28.363727Z"
    }
   },
   "source": [
    "import pandas as pd\n",
    "import numpy as np\n",
    "import heartpy as hp\n",
    "import matplotlib.pyplot as plt\n",
    "from sklearn.preprocessing import StandardScaler"
   ],
   "outputs": [],
   "execution_count": 1
  },
  {
   "cell_type": "markdown",
   "id": "aece7a78bef05c15",
   "metadata": {},
   "source": [
    "## Ładowanie zbiórów danych i wstępna obróbka\n",
    "Ładujemy zbiór danych z klasą \"normal\" (dla zdrowych osób)."
   ]
  },
  {
   "cell_type": "code",
   "id": "4c196a40433c98b6",
   "metadata": {
    "ExecuteTime": {
     "end_time": "2024-06-07T10:16:38.292660Z",
     "start_time": "2024-06-07T10:16:38.140614Z"
    }
   },
   "source": [
    "df_normal = pd.read_csv('../data/ptbdb_normal.csv', header=None)\n",
    "df_normal.shape"
   ],
   "outputs": [
    {
     "data": {
      "text/plain": [
       "(4046, 188)"
      ]
     },
     "execution_count": 2,
     "metadata": {},
     "output_type": "execute_result"
    }
   ],
   "execution_count": 2
  },
  {
   "metadata": {
    "ExecuteTime": {
     "end_time": "2024-06-07T10:16:38.311733Z",
     "start_time": "2024-06-07T10:16:38.293581Z"
    }
   },
   "cell_type": "code",
   "source": "df_normal.head(10)",
   "id": "560f08c373cd4264",
   "outputs": [
    {
     "data": {
      "text/plain": [
       "        0         1         2         3         4         5         6    \\\n",
       "0  1.000000  0.900324  0.358590  0.051459  0.046596  0.126823  0.133306   \n",
       "1  1.000000  0.794681  0.375387  0.116883  0.000000  0.171923  0.283859   \n",
       "2  0.909029  0.791482  0.423169  0.186712  0.000000  0.007836  0.063032   \n",
       "3  1.000000  0.478893  0.056760  0.064176  0.081289  0.072732  0.055619   \n",
       "4  1.000000  0.867238  0.201360  0.099349  0.141336  0.120934  0.108516   \n",
       "5  0.948983  0.505265  0.004176  0.022513  0.059550  0.107298  0.110385   \n",
       "6  1.000000  0.487680  0.114305  0.000000  0.030116  0.065024  0.060917   \n",
       "7  1.000000  0.460381  0.122178  0.009296  0.125719  0.220009  0.267375   \n",
       "8  1.000000  0.755102  0.135116  0.000000  0.285714  0.331457  0.256861   \n",
       "9  1.000000  0.706176  0.323144  0.101684  0.013724  0.222707  0.285714   \n",
       "\n",
       "        7         8         9    ...  178  179  180  181  182  183  184  185  \\\n",
       "0  0.119125  0.110616  0.113047  ...  0.0  0.0  0.0  0.0  0.0  0.0  0.0  0.0   \n",
       "1  0.293754  0.325912  0.345083  ...  0.0  0.0  0.0  0.0  0.0  0.0  0.0  0.0   \n",
       "2  0.077002  0.074957  0.077342  ...  0.0  0.0  0.0  0.0  0.0  0.0  0.0  0.0   \n",
       "3  0.048774  0.054478  0.041643  ...  0.0  0.0  0.0  0.0  0.0  0.0  0.0  0.0   \n",
       "4  0.096393  0.093436  0.100828  ...  0.0  0.0  0.0  0.0  0.0  0.0  0.0  0.0   \n",
       "5  0.111293  0.116558  0.118192  ...  0.0  0.0  0.0  0.0  0.0  0.0  0.0  0.0   \n",
       "6  0.050992  0.053388  0.051677  ...  0.0  0.0  0.0  0.0  0.0  0.0  0.0  0.0   \n",
       "7  0.262948  0.260292  0.274015  ...  0.0  0.0  0.0  0.0  0.0  0.0  0.0  0.0   \n",
       "8  0.258269  0.253343  0.277270  ...  0.0  0.0  0.0  0.0  0.0  0.0  0.0  0.0   \n",
       "9  0.295696  0.325016  0.350593  ...  0.0  0.0  0.0  0.0  0.0  0.0  0.0  0.0   \n",
       "\n",
       "   186  187  \n",
       "0  0.0  0.0  \n",
       "1  0.0  0.0  \n",
       "2  0.0  0.0  \n",
       "3  0.0  0.0  \n",
       "4  0.0  0.0  \n",
       "5  0.0  0.0  \n",
       "6  0.0  0.0  \n",
       "7  0.0  0.0  \n",
       "8  0.0  0.0  \n",
       "9  0.0  0.0  \n",
       "\n",
       "[10 rows x 188 columns]"
      ],
      "text/html": [
       "<div>\n",
       "<style scoped>\n",
       "    .dataframe tbody tr th:only-of-type {\n",
       "        vertical-align: middle;\n",
       "    }\n",
       "\n",
       "    .dataframe tbody tr th {\n",
       "        vertical-align: top;\n",
       "    }\n",
       "\n",
       "    .dataframe thead th {\n",
       "        text-align: right;\n",
       "    }\n",
       "</style>\n",
       "<table border=\"1\" class=\"dataframe\">\n",
       "  <thead>\n",
       "    <tr style=\"text-align: right;\">\n",
       "      <th></th>\n",
       "      <th>0</th>\n",
       "      <th>1</th>\n",
       "      <th>2</th>\n",
       "      <th>3</th>\n",
       "      <th>4</th>\n",
       "      <th>5</th>\n",
       "      <th>6</th>\n",
       "      <th>7</th>\n",
       "      <th>8</th>\n",
       "      <th>9</th>\n",
       "      <th>...</th>\n",
       "      <th>178</th>\n",
       "      <th>179</th>\n",
       "      <th>180</th>\n",
       "      <th>181</th>\n",
       "      <th>182</th>\n",
       "      <th>183</th>\n",
       "      <th>184</th>\n",
       "      <th>185</th>\n",
       "      <th>186</th>\n",
       "      <th>187</th>\n",
       "    </tr>\n",
       "  </thead>\n",
       "  <tbody>\n",
       "    <tr>\n",
       "      <th>0</th>\n",
       "      <td>1.000000</td>\n",
       "      <td>0.900324</td>\n",
       "      <td>0.358590</td>\n",
       "      <td>0.051459</td>\n",
       "      <td>0.046596</td>\n",
       "      <td>0.126823</td>\n",
       "      <td>0.133306</td>\n",
       "      <td>0.119125</td>\n",
       "      <td>0.110616</td>\n",
       "      <td>0.113047</td>\n",
       "      <td>...</td>\n",
       "      <td>0.0</td>\n",
       "      <td>0.0</td>\n",
       "      <td>0.0</td>\n",
       "      <td>0.0</td>\n",
       "      <td>0.0</td>\n",
       "      <td>0.0</td>\n",
       "      <td>0.0</td>\n",
       "      <td>0.0</td>\n",
       "      <td>0.0</td>\n",
       "      <td>0.0</td>\n",
       "    </tr>\n",
       "    <tr>\n",
       "      <th>1</th>\n",
       "      <td>1.000000</td>\n",
       "      <td>0.794681</td>\n",
       "      <td>0.375387</td>\n",
       "      <td>0.116883</td>\n",
       "      <td>0.000000</td>\n",
       "      <td>0.171923</td>\n",
       "      <td>0.283859</td>\n",
       "      <td>0.293754</td>\n",
       "      <td>0.325912</td>\n",
       "      <td>0.345083</td>\n",
       "      <td>...</td>\n",
       "      <td>0.0</td>\n",
       "      <td>0.0</td>\n",
       "      <td>0.0</td>\n",
       "      <td>0.0</td>\n",
       "      <td>0.0</td>\n",
       "      <td>0.0</td>\n",
       "      <td>0.0</td>\n",
       "      <td>0.0</td>\n",
       "      <td>0.0</td>\n",
       "      <td>0.0</td>\n",
       "    </tr>\n",
       "    <tr>\n",
       "      <th>2</th>\n",
       "      <td>0.909029</td>\n",
       "      <td>0.791482</td>\n",
       "      <td>0.423169</td>\n",
       "      <td>0.186712</td>\n",
       "      <td>0.000000</td>\n",
       "      <td>0.007836</td>\n",
       "      <td>0.063032</td>\n",
       "      <td>0.077002</td>\n",
       "      <td>0.074957</td>\n",
       "      <td>0.077342</td>\n",
       "      <td>...</td>\n",
       "      <td>0.0</td>\n",
       "      <td>0.0</td>\n",
       "      <td>0.0</td>\n",
       "      <td>0.0</td>\n",
       "      <td>0.0</td>\n",
       "      <td>0.0</td>\n",
       "      <td>0.0</td>\n",
       "      <td>0.0</td>\n",
       "      <td>0.0</td>\n",
       "      <td>0.0</td>\n",
       "    </tr>\n",
       "    <tr>\n",
       "      <th>3</th>\n",
       "      <td>1.000000</td>\n",
       "      <td>0.478893</td>\n",
       "      <td>0.056760</td>\n",
       "      <td>0.064176</td>\n",
       "      <td>0.081289</td>\n",
       "      <td>0.072732</td>\n",
       "      <td>0.055619</td>\n",
       "      <td>0.048774</td>\n",
       "      <td>0.054478</td>\n",
       "      <td>0.041643</td>\n",
       "      <td>...</td>\n",
       "      <td>0.0</td>\n",
       "      <td>0.0</td>\n",
       "      <td>0.0</td>\n",
       "      <td>0.0</td>\n",
       "      <td>0.0</td>\n",
       "      <td>0.0</td>\n",
       "      <td>0.0</td>\n",
       "      <td>0.0</td>\n",
       "      <td>0.0</td>\n",
       "      <td>0.0</td>\n",
       "    </tr>\n",
       "    <tr>\n",
       "      <th>4</th>\n",
       "      <td>1.000000</td>\n",
       "      <td>0.867238</td>\n",
       "      <td>0.201360</td>\n",
       "      <td>0.099349</td>\n",
       "      <td>0.141336</td>\n",
       "      <td>0.120934</td>\n",
       "      <td>0.108516</td>\n",
       "      <td>0.096393</td>\n",
       "      <td>0.093436</td>\n",
       "      <td>0.100828</td>\n",
       "      <td>...</td>\n",
       "      <td>0.0</td>\n",
       "      <td>0.0</td>\n",
       "      <td>0.0</td>\n",
       "      <td>0.0</td>\n",
       "      <td>0.0</td>\n",
       "      <td>0.0</td>\n",
       "      <td>0.0</td>\n",
       "      <td>0.0</td>\n",
       "      <td>0.0</td>\n",
       "      <td>0.0</td>\n",
       "    </tr>\n",
       "    <tr>\n",
       "      <th>5</th>\n",
       "      <td>0.948983</td>\n",
       "      <td>0.505265</td>\n",
       "      <td>0.004176</td>\n",
       "      <td>0.022513</td>\n",
       "      <td>0.059550</td>\n",
       "      <td>0.107298</td>\n",
       "      <td>0.110385</td>\n",
       "      <td>0.111293</td>\n",
       "      <td>0.116558</td>\n",
       "      <td>0.118192</td>\n",
       "      <td>...</td>\n",
       "      <td>0.0</td>\n",
       "      <td>0.0</td>\n",
       "      <td>0.0</td>\n",
       "      <td>0.0</td>\n",
       "      <td>0.0</td>\n",
       "      <td>0.0</td>\n",
       "      <td>0.0</td>\n",
       "      <td>0.0</td>\n",
       "      <td>0.0</td>\n",
       "      <td>0.0</td>\n",
       "    </tr>\n",
       "    <tr>\n",
       "      <th>6</th>\n",
       "      <td>1.000000</td>\n",
       "      <td>0.487680</td>\n",
       "      <td>0.114305</td>\n",
       "      <td>0.000000</td>\n",
       "      <td>0.030116</td>\n",
       "      <td>0.065024</td>\n",
       "      <td>0.060917</td>\n",
       "      <td>0.050992</td>\n",
       "      <td>0.053388</td>\n",
       "      <td>0.051677</td>\n",
       "      <td>...</td>\n",
       "      <td>0.0</td>\n",
       "      <td>0.0</td>\n",
       "      <td>0.0</td>\n",
       "      <td>0.0</td>\n",
       "      <td>0.0</td>\n",
       "      <td>0.0</td>\n",
       "      <td>0.0</td>\n",
       "      <td>0.0</td>\n",
       "      <td>0.0</td>\n",
       "      <td>0.0</td>\n",
       "    </tr>\n",
       "    <tr>\n",
       "      <th>7</th>\n",
       "      <td>1.000000</td>\n",
       "      <td>0.460381</td>\n",
       "      <td>0.122178</td>\n",
       "      <td>0.009296</td>\n",
       "      <td>0.125719</td>\n",
       "      <td>0.220009</td>\n",
       "      <td>0.267375</td>\n",
       "      <td>0.262948</td>\n",
       "      <td>0.260292</td>\n",
       "      <td>0.274015</td>\n",
       "      <td>...</td>\n",
       "      <td>0.0</td>\n",
       "      <td>0.0</td>\n",
       "      <td>0.0</td>\n",
       "      <td>0.0</td>\n",
       "      <td>0.0</td>\n",
       "      <td>0.0</td>\n",
       "      <td>0.0</td>\n",
       "      <td>0.0</td>\n",
       "      <td>0.0</td>\n",
       "      <td>0.0</td>\n",
       "    </tr>\n",
       "    <tr>\n",
       "      <th>8</th>\n",
       "      <td>1.000000</td>\n",
       "      <td>0.755102</td>\n",
       "      <td>0.135116</td>\n",
       "      <td>0.000000</td>\n",
       "      <td>0.285714</td>\n",
       "      <td>0.331457</td>\n",
       "      <td>0.256861</td>\n",
       "      <td>0.258269</td>\n",
       "      <td>0.253343</td>\n",
       "      <td>0.277270</td>\n",
       "      <td>...</td>\n",
       "      <td>0.0</td>\n",
       "      <td>0.0</td>\n",
       "      <td>0.0</td>\n",
       "      <td>0.0</td>\n",
       "      <td>0.0</td>\n",
       "      <td>0.0</td>\n",
       "      <td>0.0</td>\n",
       "      <td>0.0</td>\n",
       "      <td>0.0</td>\n",
       "      <td>0.0</td>\n",
       "    </tr>\n",
       "    <tr>\n",
       "      <th>9</th>\n",
       "      <td>1.000000</td>\n",
       "      <td>0.706176</td>\n",
       "      <td>0.323144</td>\n",
       "      <td>0.101684</td>\n",
       "      <td>0.013724</td>\n",
       "      <td>0.222707</td>\n",
       "      <td>0.285714</td>\n",
       "      <td>0.295696</td>\n",
       "      <td>0.325016</td>\n",
       "      <td>0.350593</td>\n",
       "      <td>...</td>\n",
       "      <td>0.0</td>\n",
       "      <td>0.0</td>\n",
       "      <td>0.0</td>\n",
       "      <td>0.0</td>\n",
       "      <td>0.0</td>\n",
       "      <td>0.0</td>\n",
       "      <td>0.0</td>\n",
       "      <td>0.0</td>\n",
       "      <td>0.0</td>\n",
       "      <td>0.0</td>\n",
       "    </tr>\n",
       "  </tbody>\n",
       "</table>\n",
       "<p>10 rows × 188 columns</p>\n",
       "</div>"
      ]
     },
     "execution_count": 3,
     "metadata": {},
     "output_type": "execute_result"
    }
   ],
   "execution_count": 3
  },
  {
   "metadata": {},
   "cell_type": "markdown",
   "source": [
    "Wstępnie obrabiamy dane:\n",
    "- usuwamy wartości NaN,\n",
    "- usuwamy ostatnią kolumnę oznaczającą klasę (nie chcę aby zaburzała filtrowanie)."
   ],
   "id": "98c9839e987c70eb"
  },
  {
   "metadata": {
    "ExecuteTime": {
     "end_time": "2024-06-07T10:16:38.331940Z",
     "start_time": "2024-06-07T10:16:38.313561Z"
    }
   },
   "cell_type": "code",
   "source": [
    "df_normal.dropna()\n",
    "df_normal = df_normal.drop(df_normal.columns[-1], axis=1)\n",
    "df_normal.head(10)"
   ],
   "id": "c9a2abc7665088f7",
   "outputs": [
    {
     "data": {
      "text/plain": [
       "        0         1         2         3         4         5         6    \\\n",
       "0  1.000000  0.900324  0.358590  0.051459  0.046596  0.126823  0.133306   \n",
       "1  1.000000  0.794681  0.375387  0.116883  0.000000  0.171923  0.283859   \n",
       "2  0.909029  0.791482  0.423169  0.186712  0.000000  0.007836  0.063032   \n",
       "3  1.000000  0.478893  0.056760  0.064176  0.081289  0.072732  0.055619   \n",
       "4  1.000000  0.867238  0.201360  0.099349  0.141336  0.120934  0.108516   \n",
       "5  0.948983  0.505265  0.004176  0.022513  0.059550  0.107298  0.110385   \n",
       "6  1.000000  0.487680  0.114305  0.000000  0.030116  0.065024  0.060917   \n",
       "7  1.000000  0.460381  0.122178  0.009296  0.125719  0.220009  0.267375   \n",
       "8  1.000000  0.755102  0.135116  0.000000  0.285714  0.331457  0.256861   \n",
       "9  1.000000  0.706176  0.323144  0.101684  0.013724  0.222707  0.285714   \n",
       "\n",
       "        7         8         9    ...  177  178  179  180  181  182  183  184  \\\n",
       "0  0.119125  0.110616  0.113047  ...  0.0  0.0  0.0  0.0  0.0  0.0  0.0  0.0   \n",
       "1  0.293754  0.325912  0.345083  ...  0.0  0.0  0.0  0.0  0.0  0.0  0.0  0.0   \n",
       "2  0.077002  0.074957  0.077342  ...  0.0  0.0  0.0  0.0  0.0  0.0  0.0  0.0   \n",
       "3  0.048774  0.054478  0.041643  ...  0.0  0.0  0.0  0.0  0.0  0.0  0.0  0.0   \n",
       "4  0.096393  0.093436  0.100828  ...  0.0  0.0  0.0  0.0  0.0  0.0  0.0  0.0   \n",
       "5  0.111293  0.116558  0.118192  ...  0.0  0.0  0.0  0.0  0.0  0.0  0.0  0.0   \n",
       "6  0.050992  0.053388  0.051677  ...  0.0  0.0  0.0  0.0  0.0  0.0  0.0  0.0   \n",
       "7  0.262948  0.260292  0.274015  ...  0.0  0.0  0.0  0.0  0.0  0.0  0.0  0.0   \n",
       "8  0.258269  0.253343  0.277270  ...  0.0  0.0  0.0  0.0  0.0  0.0  0.0  0.0   \n",
       "9  0.295696  0.325016  0.350593  ...  0.0  0.0  0.0  0.0  0.0  0.0  0.0  0.0   \n",
       "\n",
       "   185  186  \n",
       "0  0.0  0.0  \n",
       "1  0.0  0.0  \n",
       "2  0.0  0.0  \n",
       "3  0.0  0.0  \n",
       "4  0.0  0.0  \n",
       "5  0.0  0.0  \n",
       "6  0.0  0.0  \n",
       "7  0.0  0.0  \n",
       "8  0.0  0.0  \n",
       "9  0.0  0.0  \n",
       "\n",
       "[10 rows x 187 columns]"
      ],
      "text/html": [
       "<div>\n",
       "<style scoped>\n",
       "    .dataframe tbody tr th:only-of-type {\n",
       "        vertical-align: middle;\n",
       "    }\n",
       "\n",
       "    .dataframe tbody tr th {\n",
       "        vertical-align: top;\n",
       "    }\n",
       "\n",
       "    .dataframe thead th {\n",
       "        text-align: right;\n",
       "    }\n",
       "</style>\n",
       "<table border=\"1\" class=\"dataframe\">\n",
       "  <thead>\n",
       "    <tr style=\"text-align: right;\">\n",
       "      <th></th>\n",
       "      <th>0</th>\n",
       "      <th>1</th>\n",
       "      <th>2</th>\n",
       "      <th>3</th>\n",
       "      <th>4</th>\n",
       "      <th>5</th>\n",
       "      <th>6</th>\n",
       "      <th>7</th>\n",
       "      <th>8</th>\n",
       "      <th>9</th>\n",
       "      <th>...</th>\n",
       "      <th>177</th>\n",
       "      <th>178</th>\n",
       "      <th>179</th>\n",
       "      <th>180</th>\n",
       "      <th>181</th>\n",
       "      <th>182</th>\n",
       "      <th>183</th>\n",
       "      <th>184</th>\n",
       "      <th>185</th>\n",
       "      <th>186</th>\n",
       "    </tr>\n",
       "  </thead>\n",
       "  <tbody>\n",
       "    <tr>\n",
       "      <th>0</th>\n",
       "      <td>1.000000</td>\n",
       "      <td>0.900324</td>\n",
       "      <td>0.358590</td>\n",
       "      <td>0.051459</td>\n",
       "      <td>0.046596</td>\n",
       "      <td>0.126823</td>\n",
       "      <td>0.133306</td>\n",
       "      <td>0.119125</td>\n",
       "      <td>0.110616</td>\n",
       "      <td>0.113047</td>\n",
       "      <td>...</td>\n",
       "      <td>0.0</td>\n",
       "      <td>0.0</td>\n",
       "      <td>0.0</td>\n",
       "      <td>0.0</td>\n",
       "      <td>0.0</td>\n",
       "      <td>0.0</td>\n",
       "      <td>0.0</td>\n",
       "      <td>0.0</td>\n",
       "      <td>0.0</td>\n",
       "      <td>0.0</td>\n",
       "    </tr>\n",
       "    <tr>\n",
       "      <th>1</th>\n",
       "      <td>1.000000</td>\n",
       "      <td>0.794681</td>\n",
       "      <td>0.375387</td>\n",
       "      <td>0.116883</td>\n",
       "      <td>0.000000</td>\n",
       "      <td>0.171923</td>\n",
       "      <td>0.283859</td>\n",
       "      <td>0.293754</td>\n",
       "      <td>0.325912</td>\n",
       "      <td>0.345083</td>\n",
       "      <td>...</td>\n",
       "      <td>0.0</td>\n",
       "      <td>0.0</td>\n",
       "      <td>0.0</td>\n",
       "      <td>0.0</td>\n",
       "      <td>0.0</td>\n",
       "      <td>0.0</td>\n",
       "      <td>0.0</td>\n",
       "      <td>0.0</td>\n",
       "      <td>0.0</td>\n",
       "      <td>0.0</td>\n",
       "    </tr>\n",
       "    <tr>\n",
       "      <th>2</th>\n",
       "      <td>0.909029</td>\n",
       "      <td>0.791482</td>\n",
       "      <td>0.423169</td>\n",
       "      <td>0.186712</td>\n",
       "      <td>0.000000</td>\n",
       "      <td>0.007836</td>\n",
       "      <td>0.063032</td>\n",
       "      <td>0.077002</td>\n",
       "      <td>0.074957</td>\n",
       "      <td>0.077342</td>\n",
       "      <td>...</td>\n",
       "      <td>0.0</td>\n",
       "      <td>0.0</td>\n",
       "      <td>0.0</td>\n",
       "      <td>0.0</td>\n",
       "      <td>0.0</td>\n",
       "      <td>0.0</td>\n",
       "      <td>0.0</td>\n",
       "      <td>0.0</td>\n",
       "      <td>0.0</td>\n",
       "      <td>0.0</td>\n",
       "    </tr>\n",
       "    <tr>\n",
       "      <th>3</th>\n",
       "      <td>1.000000</td>\n",
       "      <td>0.478893</td>\n",
       "      <td>0.056760</td>\n",
       "      <td>0.064176</td>\n",
       "      <td>0.081289</td>\n",
       "      <td>0.072732</td>\n",
       "      <td>0.055619</td>\n",
       "      <td>0.048774</td>\n",
       "      <td>0.054478</td>\n",
       "      <td>0.041643</td>\n",
       "      <td>...</td>\n",
       "      <td>0.0</td>\n",
       "      <td>0.0</td>\n",
       "      <td>0.0</td>\n",
       "      <td>0.0</td>\n",
       "      <td>0.0</td>\n",
       "      <td>0.0</td>\n",
       "      <td>0.0</td>\n",
       "      <td>0.0</td>\n",
       "      <td>0.0</td>\n",
       "      <td>0.0</td>\n",
       "    </tr>\n",
       "    <tr>\n",
       "      <th>4</th>\n",
       "      <td>1.000000</td>\n",
       "      <td>0.867238</td>\n",
       "      <td>0.201360</td>\n",
       "      <td>0.099349</td>\n",
       "      <td>0.141336</td>\n",
       "      <td>0.120934</td>\n",
       "      <td>0.108516</td>\n",
       "      <td>0.096393</td>\n",
       "      <td>0.093436</td>\n",
       "      <td>0.100828</td>\n",
       "      <td>...</td>\n",
       "      <td>0.0</td>\n",
       "      <td>0.0</td>\n",
       "      <td>0.0</td>\n",
       "      <td>0.0</td>\n",
       "      <td>0.0</td>\n",
       "      <td>0.0</td>\n",
       "      <td>0.0</td>\n",
       "      <td>0.0</td>\n",
       "      <td>0.0</td>\n",
       "      <td>0.0</td>\n",
       "    </tr>\n",
       "    <tr>\n",
       "      <th>5</th>\n",
       "      <td>0.948983</td>\n",
       "      <td>0.505265</td>\n",
       "      <td>0.004176</td>\n",
       "      <td>0.022513</td>\n",
       "      <td>0.059550</td>\n",
       "      <td>0.107298</td>\n",
       "      <td>0.110385</td>\n",
       "      <td>0.111293</td>\n",
       "      <td>0.116558</td>\n",
       "      <td>0.118192</td>\n",
       "      <td>...</td>\n",
       "      <td>0.0</td>\n",
       "      <td>0.0</td>\n",
       "      <td>0.0</td>\n",
       "      <td>0.0</td>\n",
       "      <td>0.0</td>\n",
       "      <td>0.0</td>\n",
       "      <td>0.0</td>\n",
       "      <td>0.0</td>\n",
       "      <td>0.0</td>\n",
       "      <td>0.0</td>\n",
       "    </tr>\n",
       "    <tr>\n",
       "      <th>6</th>\n",
       "      <td>1.000000</td>\n",
       "      <td>0.487680</td>\n",
       "      <td>0.114305</td>\n",
       "      <td>0.000000</td>\n",
       "      <td>0.030116</td>\n",
       "      <td>0.065024</td>\n",
       "      <td>0.060917</td>\n",
       "      <td>0.050992</td>\n",
       "      <td>0.053388</td>\n",
       "      <td>0.051677</td>\n",
       "      <td>...</td>\n",
       "      <td>0.0</td>\n",
       "      <td>0.0</td>\n",
       "      <td>0.0</td>\n",
       "      <td>0.0</td>\n",
       "      <td>0.0</td>\n",
       "      <td>0.0</td>\n",
       "      <td>0.0</td>\n",
       "      <td>0.0</td>\n",
       "      <td>0.0</td>\n",
       "      <td>0.0</td>\n",
       "    </tr>\n",
       "    <tr>\n",
       "      <th>7</th>\n",
       "      <td>1.000000</td>\n",
       "      <td>0.460381</td>\n",
       "      <td>0.122178</td>\n",
       "      <td>0.009296</td>\n",
       "      <td>0.125719</td>\n",
       "      <td>0.220009</td>\n",
       "      <td>0.267375</td>\n",
       "      <td>0.262948</td>\n",
       "      <td>0.260292</td>\n",
       "      <td>0.274015</td>\n",
       "      <td>...</td>\n",
       "      <td>0.0</td>\n",
       "      <td>0.0</td>\n",
       "      <td>0.0</td>\n",
       "      <td>0.0</td>\n",
       "      <td>0.0</td>\n",
       "      <td>0.0</td>\n",
       "      <td>0.0</td>\n",
       "      <td>0.0</td>\n",
       "      <td>0.0</td>\n",
       "      <td>0.0</td>\n",
       "    </tr>\n",
       "    <tr>\n",
       "      <th>8</th>\n",
       "      <td>1.000000</td>\n",
       "      <td>0.755102</td>\n",
       "      <td>0.135116</td>\n",
       "      <td>0.000000</td>\n",
       "      <td>0.285714</td>\n",
       "      <td>0.331457</td>\n",
       "      <td>0.256861</td>\n",
       "      <td>0.258269</td>\n",
       "      <td>0.253343</td>\n",
       "      <td>0.277270</td>\n",
       "      <td>...</td>\n",
       "      <td>0.0</td>\n",
       "      <td>0.0</td>\n",
       "      <td>0.0</td>\n",
       "      <td>0.0</td>\n",
       "      <td>0.0</td>\n",
       "      <td>0.0</td>\n",
       "      <td>0.0</td>\n",
       "      <td>0.0</td>\n",
       "      <td>0.0</td>\n",
       "      <td>0.0</td>\n",
       "    </tr>\n",
       "    <tr>\n",
       "      <th>9</th>\n",
       "      <td>1.000000</td>\n",
       "      <td>0.706176</td>\n",
       "      <td>0.323144</td>\n",
       "      <td>0.101684</td>\n",
       "      <td>0.013724</td>\n",
       "      <td>0.222707</td>\n",
       "      <td>0.285714</td>\n",
       "      <td>0.295696</td>\n",
       "      <td>0.325016</td>\n",
       "      <td>0.350593</td>\n",
       "      <td>...</td>\n",
       "      <td>0.0</td>\n",
       "      <td>0.0</td>\n",
       "      <td>0.0</td>\n",
       "      <td>0.0</td>\n",
       "      <td>0.0</td>\n",
       "      <td>0.0</td>\n",
       "      <td>0.0</td>\n",
       "      <td>0.0</td>\n",
       "      <td>0.0</td>\n",
       "      <td>0.0</td>\n",
       "    </tr>\n",
       "  </tbody>\n",
       "</table>\n",
       "<p>10 rows × 187 columns</p>\n",
       "</div>"
      ]
     },
     "execution_count": 4,
     "metadata": {},
     "output_type": "execute_result"
    }
   ],
   "execution_count": 4
  },
  {
   "metadata": {},
   "cell_type": "markdown",
   "source": "Zobrazowanie pierwszego wiersza z klasy \"normal\"",
   "id": "1fd2c6c7cfae0b05"
  },
  {
   "metadata": {
    "ExecuteTime": {
     "end_time": "2024-06-07T10:16:38.640043Z",
     "start_time": "2024-06-07T10:16:38.333451Z"
    }
   },
   "cell_type": "code",
   "source": [
    "plt.figure(figsize=(12,4))\n",
    "plt.plot(df_normal.iloc[0])\n",
    "plt.show()"
   ],
   "id": "195bfd1305a577ab",
   "outputs": [
    {
     "data": {
      "text/plain": [
       "<Figure size 1200x400 with 1 Axes>"
      ],
      "image/png": "[encoded data removed]"
     },
     "metadata": {},
     "output_type": "display_data"
    }
   ],
   "execution_count": 5
  },
  {
   "cell_type": "markdown",
   "id": "6f3ffb462b421c7f",
   "metadata": {},
   "source": "Ładujemy zbiór danych z klasą \"abnormal\" (dla osób z różnymi chorobami)."
  },
  {
   "cell_type": "code",
   "id": "d3dcd726462a7558",
   "metadata": {
    "ExecuteTime": {
     "end_time": "2024-06-07T10:16:39.007545Z",
     "start_time": "2024-06-07T10:16:38.641805Z"
    }
   },
   "source": [
    "df_abnormal = pd.read_csv('../data/ptbdb_abnormal.csv',header=None)\n",
    "df_abnormal.shape"
   ],
   "outputs": [
    {
     "data": {
      "text/plain": [
       "(10506, 188)"
      ]
     },
     "execution_count": 6,
     "metadata": {},
     "output_type": "execute_result"
    }
   ],
   "execution_count": 6
  },
  {
   "metadata": {
    "ExecuteTime": {
     "end_time": "2024-06-07T10:16:39.021967Z",
     "start_time": "2024-06-07T10:16:39.008971Z"
    }
   },
   "cell_type": "code",
   "source": "df_abnormal.head(10)",
   "id": "6ac6d8ee829a6afa",
   "outputs": [
    {
     "data": {
      "text/plain": [
       "        0         1         2         3         4         5         6    \\\n",
       "0  0.932233  0.869679  0.886186  0.929626  0.908775  0.933970  0.801043   \n",
       "1  1.000000  0.606941  0.384181  0.254237  0.223567  0.276836  0.253430   \n",
       "2  1.000000  0.951613  0.923963  0.853303  0.791859  0.734255  0.672043   \n",
       "3  0.977819  0.899261  0.230129  0.032348  0.142329  0.223660  0.328096   \n",
       "4  0.935618  0.801661  0.805815  1.000000  0.722741  0.480789  0.454829   \n",
       "5  0.925265  0.433352  0.073620  0.079197  0.136643  0.182934  0.182934   \n",
       "6  0.999144  0.774829  0.522260  0.250856  0.000000  0.066781  0.093322   \n",
       "7  1.000000  0.871452  0.678353  0.357262  0.051196  0.000000  0.090707   \n",
       "8  1.000000  0.729630  0.583333  0.350926  0.279630  0.321296  0.267593   \n",
       "9  0.932234  0.810440  0.627595  0.422161  0.263126  0.145910  0.109280   \n",
       "\n",
       "        7         8         9    ...  178  179  180  181  182  183  184  185  \\\n",
       "0  0.749783  0.687229  0.635100  ...  0.0  0.0  0.0  0.0  0.0  0.0  0.0  0.0   \n",
       "1  0.184826  0.153349  0.121872  ...  0.0  0.0  0.0  0.0  0.0  0.0  0.0  0.0   \n",
       "2  0.685100  0.670507  0.667435  ...  0.0  0.0  0.0  0.0  0.0  0.0  0.0  0.0   \n",
       "3  0.367837  0.381701  0.389094  ...  0.0  0.0  0.0  0.0  0.0  0.0  0.0  0.0   \n",
       "4  0.319834  0.266874  0.308411  ...  0.0  0.0  0.0  0.0  0.0  0.0  0.0  0.0   \n",
       "5  0.182376  0.196877  0.203569  ...  0.0  0.0  0.0  0.0  0.0  0.0  0.0  0.0   \n",
       "6  0.144692  0.154110  0.152397  ...  0.0  0.0  0.0  0.0  0.0  0.0  0.0  0.0   \n",
       "7  0.142460  0.138564  0.185309  ...  0.0  0.0  0.0  0.0  0.0  0.0  0.0  0.0   \n",
       "8  0.229630  0.218519  0.203704  ...  0.0  0.0  0.0  0.0  0.0  0.0  0.0  0.0   \n",
       "9  0.088523  0.079976  0.073565  ...  0.0  0.0  0.0  0.0  0.0  0.0  0.0  0.0   \n",
       "\n",
       "   186  187  \n",
       "0  0.0  1.0  \n",
       "1  0.0  1.0  \n",
       "2  0.0  1.0  \n",
       "3  0.0  1.0  \n",
       "4  0.0  1.0  \n",
       "5  0.0  1.0  \n",
       "6  0.0  1.0  \n",
       "7  0.0  1.0  \n",
       "8  0.0  1.0  \n",
       "9  0.0  1.0  \n",
       "\n",
       "[10 rows x 188 columns]"
      ],
      "text/html": [
       "<div>\n",
       "<style scoped>\n",
       "    .dataframe tbody tr th:only-of-type {\n",
       "        vertical-align: middle;\n",
       "    }\n",
       "\n",
       "    .dataframe tbody tr th {\n",
       "        vertical-align: top;\n",
       "    }\n",
       "\n",
       "    .dataframe thead th {\n",
       "        text-align: right;\n",
       "    }\n",
       "</style>\n",
       "<table border=\"1\" class=\"dataframe\">\n",
       "  <thead>\n",
       "    <tr style=\"text-align: right;\">\n",
       "      <th></th>\n",
       "      <th>0</th>\n",
       "      <th>1</th>\n",
       "      <th>2</th>\n",
       "      <th>3</th>\n",
       "      <th>4</th>\n",
       "      <th>5</th>\n",
       "      <th>6</th>\n",
       "      <th>7</th>\n",
       "      <th>8</th>\n",
       "      <th>9</th>\n",
       "      <th>...</th>\n",
       "      <th>178</th>\n",
       "      <th>179</th>\n",
       "      <th>180</th>\n",
       "      <th>181</th>\n",
       "      <th>182</th>\n",
       "      <th>183</th>\n",
       "      <th>184</th>\n",
       "      <th>185</th>\n",
       "      <th>186</th>\n",
       "      <th>187</th>\n",
       "    </tr>\n",
       "  </thead>\n",
       "  <tbody>\n",
       "    <tr>\n",
       "      <th>0</th>\n",
       "      <td>0.932233</td>\n",
       "      <td>0.869679</td>\n",
       "      <td>0.886186</td>\n",
       "      <td>0.929626</td>\n",
       "      <td>0.908775</td>\n",
       "      <td>0.933970</td>\n",
       "      <td>0.801043</td>\n",
       "      <td>0.749783</td>\n",
       "      <td>0.687229</td>\n",
       "      <td>0.635100</td>\n",
       "      <td>...</td>\n",
       "      <td>0.0</td>\n",
       "      <td>0.0</td>\n",
       "      <td>0.0</td>\n",
       "      <td>0.0</td>\n",
       "      <td>0.0</td>\n",
       "      <td>0.0</td>\n",
       "      <td>0.0</td>\n",
       "      <td>0.0</td>\n",
       "      <td>0.0</td>\n",
       "      <td>1.0</td>\n",
       "    </tr>\n",
       "    <tr>\n",
       "      <th>1</th>\n",
       "      <td>1.000000</td>\n",
       "      <td>0.606941</td>\n",
       "      <td>0.384181</td>\n",
       "      <td>0.254237</td>\n",
       "      <td>0.223567</td>\n",
       "      <td>0.276836</td>\n",
       "      <td>0.253430</td>\n",
       "      <td>0.184826</td>\n",
       "      <td>0.153349</td>\n",
       "      <td>0.121872</td>\n",
       "      <td>...</td>\n",
       "      <td>0.0</td>\n",
       "      <td>0.0</td>\n",
       "      <td>0.0</td>\n",
       "      <td>0.0</td>\n",
       "      <td>0.0</td>\n",
       "      <td>0.0</td>\n",
       "      <td>0.0</td>\n",
       "      <td>0.0</td>\n",
       "      <td>0.0</td>\n",
       "      <td>1.0</td>\n",
       "    </tr>\n",
       "    <tr>\n",
       "      <th>2</th>\n",
       "      <td>1.000000</td>\n",
       "      <td>0.951613</td>\n",
       "      <td>0.923963</td>\n",
       "      <td>0.853303</td>\n",
       "      <td>0.791859</td>\n",
       "      <td>0.734255</td>\n",
       "      <td>0.672043</td>\n",
       "      <td>0.685100</td>\n",
       "      <td>0.670507</td>\n",
       "      <td>0.667435</td>\n",
       "      <td>...</td>\n",
       "      <td>0.0</td>\n",
       "      <td>0.0</td>\n",
       "      <td>0.0</td>\n",
       "      <td>0.0</td>\n",
       "      <td>0.0</td>\n",
       "      <td>0.0</td>\n",
       "      <td>0.0</td>\n",
       "      <td>0.0</td>\n",
       "      <td>0.0</td>\n",
       "      <td>1.0</td>\n",
       "    </tr>\n",
       "    <tr>\n",
       "      <th>3</th>\n",
       "      <td>0.977819</td>\n",
       "      <td>0.899261</td>\n",
       "      <td>0.230129</td>\n",
       "      <td>0.032348</td>\n",
       "      <td>0.142329</td>\n",
       "      <td>0.223660</td>\n",
       "      <td>0.328096</td>\n",
       "      <td>0.367837</td>\n",
       "      <td>0.381701</td>\n",
       "      <td>0.389094</td>\n",
       "      <td>...</td>\n",
       "      <td>0.0</td>\n",
       "      <td>0.0</td>\n",
       "      <td>0.0</td>\n",
       "      <td>0.0</td>\n",
       "      <td>0.0</td>\n",
       "      <td>0.0</td>\n",
       "      <td>0.0</td>\n",
       "      <td>0.0</td>\n",
       "      <td>0.0</td>\n",
       "      <td>1.0</td>\n",
       "    </tr>\n",
       "    <tr>\n",
       "      <th>4</th>\n",
       "      <td>0.935618</td>\n",
       "      <td>0.801661</td>\n",
       "      <td>0.805815</td>\n",
       "      <td>1.000000</td>\n",
       "      <td>0.722741</td>\n",
       "      <td>0.480789</td>\n",
       "      <td>0.454829</td>\n",
       "      <td>0.319834</td>\n",
       "      <td>0.266874</td>\n",
       "      <td>0.308411</td>\n",
       "      <td>...</td>\n",
       "      <td>0.0</td>\n",
       "      <td>0.0</td>\n",
       "      <td>0.0</td>\n",
       "      <td>0.0</td>\n",
       "      <td>0.0</td>\n",
       "      <td>0.0</td>\n",
       "      <td>0.0</td>\n",
       "      <td>0.0</td>\n",
       "      <td>0.0</td>\n",
       "      <td>1.0</td>\n",
       "    </tr>\n",
       "    <tr>\n",
       "      <th>5</th>\n",
       "      <td>0.925265</td>\n",
       "      <td>0.433352</td>\n",
       "      <td>0.073620</td>\n",
       "      <td>0.079197</td>\n",
       "      <td>0.136643</td>\n",
       "      <td>0.182934</td>\n",
       "      <td>0.182934</td>\n",
       "      <td>0.182376</td>\n",
       "      <td>0.196877</td>\n",
       "      <td>0.203569</td>\n",
       "      <td>...</td>\n",
       "      <td>0.0</td>\n",
       "      <td>0.0</td>\n",
       "      <td>0.0</td>\n",
       "      <td>0.0</td>\n",
       "      <td>0.0</td>\n",
       "      <td>0.0</td>\n",
       "      <td>0.0</td>\n",
       "      <td>0.0</td>\n",
       "      <td>0.0</td>\n",
       "      <td>1.0</td>\n",
       "    </tr>\n",
       "    <tr>\n",
       "      <th>6</th>\n",
       "      <td>0.999144</td>\n",
       "      <td>0.774829</td>\n",
       "      <td>0.522260</td>\n",
       "      <td>0.250856</td>\n",
       "      <td>0.000000</td>\n",
       "      <td>0.066781</td>\n",
       "      <td>0.093322</td>\n",
       "      <td>0.144692</td>\n",
       "      <td>0.154110</td>\n",
       "      <td>0.152397</td>\n",
       "      <td>...</td>\n",
       "      <td>0.0</td>\n",
       "      <td>0.0</td>\n",
       "      <td>0.0</td>\n",
       "      <td>0.0</td>\n",
       "      <td>0.0</td>\n",
       "      <td>0.0</td>\n",
       "      <td>0.0</td>\n",
       "      <td>0.0</td>\n",
       "      <td>0.0</td>\n",
       "      <td>1.0</td>\n",
       "    </tr>\n",
       "    <tr>\n",
       "      <th>7</th>\n",
       "      <td>1.000000</td>\n",
       "      <td>0.871452</td>\n",
       "      <td>0.678353</td>\n",
       "      <td>0.357262</td>\n",
       "      <td>0.051196</td>\n",
       "      <td>0.000000</td>\n",
       "      <td>0.090707</td>\n",
       "      <td>0.142460</td>\n",
       "      <td>0.138564</td>\n",
       "      <td>0.185309</td>\n",
       "      <td>...</td>\n",
       "      <td>0.0</td>\n",
       "      <td>0.0</td>\n",
       "      <td>0.0</td>\n",
       "      <td>0.0</td>\n",
       "      <td>0.0</td>\n",
       "      <td>0.0</td>\n",
       "      <td>0.0</td>\n",
       "      <td>0.0</td>\n",
       "      <td>0.0</td>\n",
       "      <td>1.0</td>\n",
       "    </tr>\n",
       "    <tr>\n",
       "      <th>8</th>\n",
       "      <td>1.000000</td>\n",
       "      <td>0.729630</td>\n",
       "      <td>0.583333</td>\n",
       "      <td>0.350926</td>\n",
       "      <td>0.279630</td>\n",
       "      <td>0.321296</td>\n",
       "      <td>0.267593</td>\n",
       "      <td>0.229630</td>\n",
       "      <td>0.218519</td>\n",
       "      <td>0.203704</td>\n",
       "      <td>...</td>\n",
       "      <td>0.0</td>\n",
       "      <td>0.0</td>\n",
       "      <td>0.0</td>\n",
       "      <td>0.0</td>\n",
       "      <td>0.0</td>\n",
       "      <td>0.0</td>\n",
       "      <td>0.0</td>\n",
       "      <td>0.0</td>\n",
       "      <td>0.0</td>\n",
       "      <td>1.0</td>\n",
       "    </tr>\n",
       "    <tr>\n",
       "      <th>9</th>\n",
       "      <td>0.932234</td>\n",
       "      <td>0.810440</td>\n",
       "      <td>0.627595</td>\n",
       "      <td>0.422161</td>\n",
       "      <td>0.263126</td>\n",
       "      <td>0.145910</td>\n",
       "      <td>0.109280</td>\n",
       "      <td>0.088523</td>\n",
       "      <td>0.079976</td>\n",
       "      <td>0.073565</td>\n",
       "      <td>...</td>\n",
       "      <td>0.0</td>\n",
       "      <td>0.0</td>\n",
       "      <td>0.0</td>\n",
       "      <td>0.0</td>\n",
       "      <td>0.0</td>\n",
       "      <td>0.0</td>\n",
       "      <td>0.0</td>\n",
       "      <td>0.0</td>\n",
       "      <td>0.0</td>\n",
       "      <td>1.0</td>\n",
       "    </tr>\n",
       "  </tbody>\n",
       "</table>\n",
       "<p>10 rows × 188 columns</p>\n",
       "</div>"
      ]
     },
     "execution_count": 7,
     "metadata": {},
     "output_type": "execute_result"
    }
   ],
   "execution_count": 7
  },
  {
   "metadata": {},
   "cell_type": "markdown",
   "source": "Dla danych z klasy \"abnormal\" robimy to samo.",
   "id": "46448d7edb6cb6af"
  },
  {
   "metadata": {
    "ExecuteTime": {
     "end_time": "2024-06-07T10:16:39.055835Z",
     "start_time": "2024-06-07T10:16:39.022989Z"
    }
   },
   "cell_type": "code",
   "source": [
    "df_abnormal.dropna()\n",
    "df_abnormal = df_abnormal.drop(df_abnormal.columns[-1], axis=1)\n",
    "df_abnormal.head(10)"
   ],
   "id": "ddd273f3274e5cc8",
   "outputs": [
    {
     "data": {
      "text/plain": [
       "        0         1         2         3         4         5         6    \\\n",
       "0  0.932233  0.869679  0.886186  0.929626  0.908775  0.933970  0.801043   \n",
       "1  1.000000  0.606941  0.384181  0.254237  0.223567  0.276836  0.253430   \n",
       "2  1.000000  0.951613  0.923963  0.853303  0.791859  0.734255  0.672043   \n",
       "3  0.977819  0.899261  0.230129  0.032348  0.142329  0.223660  0.328096   \n",
       "4  0.935618  0.801661  0.805815  1.000000  0.722741  0.480789  0.454829   \n",
       "5  0.925265  0.433352  0.073620  0.079197  0.136643  0.182934  0.182934   \n",
       "6  0.999144  0.774829  0.522260  0.250856  0.000000  0.066781  0.093322   \n",
       "7  1.000000  0.871452  0.678353  0.357262  0.051196  0.000000  0.090707   \n",
       "8  1.000000  0.729630  0.583333  0.350926  0.279630  0.321296  0.267593   \n",
       "9  0.932234  0.810440  0.627595  0.422161  0.263126  0.145910  0.109280   \n",
       "\n",
       "        7         8         9    ...  177  178  179  180  181  182  183  184  \\\n",
       "0  0.749783  0.687229  0.635100  ...  0.0  0.0  0.0  0.0  0.0  0.0  0.0  0.0   \n",
       "1  0.184826  0.153349  0.121872  ...  0.0  0.0  0.0  0.0  0.0  0.0  0.0  0.0   \n",
       "2  0.685100  0.670507  0.667435  ...  0.0  0.0  0.0  0.0  0.0  0.0  0.0  0.0   \n",
       "3  0.367837  0.381701  0.389094  ...  0.0  0.0  0.0  0.0  0.0  0.0  0.0  0.0   \n",
       "4  0.319834  0.266874  0.308411  ...  0.0  0.0  0.0  0.0  0.0  0.0  0.0  0.0   \n",
       "5  0.182376  0.196877  0.203569  ...  0.0  0.0  0.0  0.0  0.0  0.0  0.0  0.0   \n",
       "6  0.144692  0.154110  0.152397  ...  0.0  0.0  0.0  0.0  0.0  0.0  0.0  0.0   \n",
       "7  0.142460  0.138564  0.185309  ...  0.0  0.0  0.0  0.0  0.0  0.0  0.0  0.0   \n",
       "8  0.229630  0.218519  0.203704  ...  0.0  0.0  0.0  0.0  0.0  0.0  0.0  0.0   \n",
       "9  0.088523  0.079976  0.073565  ...  0.0  0.0  0.0  0.0  0.0  0.0  0.0  0.0   \n",
       "\n",
       "   185  186  \n",
       "0  0.0  0.0  \n",
       "1  0.0  0.0  \n",
       "2  0.0  0.0  \n",
       "3  0.0  0.0  \n",
       "4  0.0  0.0  \n",
       "5  0.0  0.0  \n",
       "6  0.0  0.0  \n",
       "7  0.0  0.0  \n",
       "8  0.0  0.0  \n",
       "9  0.0  0.0  \n",
       "\n",
       "[10 rows x 187 columns]"
      ],
      "text/html": [
       "<div>\n",
       "<style scoped>\n",
       "    .dataframe tbody tr th:only-of-type {\n",
       "        vertical-align: middle;\n",
       "    }\n",
       "\n",
       "    .dataframe tbody tr th {\n",
       "        vertical-align: top;\n",
       "    }\n",
       "\n",
       "    .dataframe thead th {\n",
       "        text-align: right;\n",
       "    }\n",
       "</style>\n",
       "<table border=\"1\" class=\"dataframe\">\n",
       "  <thead>\n",
       "    <tr style=\"text-align: right;\">\n",
       "      <th></th>\n",
       "      <th>0</th>\n",
       "      <th>1</th>\n",
       "      <th>2</th>\n",
       "      <th>3</th>\n",
       "      <th>4</th>\n",
       "      <th>5</th>\n",
       "      <th>6</th>\n",
       "      <th>7</th>\n",
       "      <th>8</th>\n",
       "      <th>9</th>\n",
       "      <th>...</th>\n",
       "      <th>177</th>\n",
       "      <th>178</th>\n",
       "      <th>179</th>\n",
       "      <th>180</th>\n",
       "      <th>181</th>\n",
       "      <th>182</th>\n",
       "      <th>183</th>\n",
       "      <th>184</th>\n",
       "      <th>185</th>\n",
       "      <th>186</th>\n",
       "    </tr>\n",
       "  </thead>\n",
       "  <tbody>\n",
       "    <tr>\n",
       "      <th>0</th>\n",
       "      <td>0.932233</td>\n",
       "      <td>0.869679</td>\n",
       "      <td>0.886186</td>\n",
       "      <td>0.929626</td>\n",
       "      <td>0.908775</td>\n",
       "      <td>0.933970</td>\n",
       "      <td>0.801043</td>\n",
       "      <td>0.749783</td>\n",
       "      <td>0.687229</td>\n",
       "      <td>0.635100</td>\n",
       "      <td>...</td>\n",
       "      <td>0.0</td>\n",
       "      <td>0.0</td>\n",
       "      <td>0.0</td>\n",
       "      <td>0.0</td>\n",
       "      <td>0.0</td>\n",
       "      <td>0.0</td>\n",
       "      <td>0.0</td>\n",
       "      <td>0.0</td>\n",
       "      <td>0.0</td>\n",
       "      <td>0.0</td>\n",
       "    </tr>\n",
       "    <tr>\n",
       "      <th>1</th>\n",
       "      <td>1.000000</td>\n",
       "      <td>0.606941</td>\n",
       "      <td>0.384181</td>\n",
       "      <td>0.254237</td>\n",
       "      <td>0.223567</td>\n",
       "      <td>0.276836</td>\n",
       "      <td>0.253430</td>\n",
       "      <td>0.184826</td>\n",
       "      <td>0.153349</td>\n",
       "      <td>0.121872</td>\n",
       "      <td>...</td>\n",
       "      <td>0.0</td>\n",
       "      <td>0.0</td>\n",
       "      <td>0.0</td>\n",
       "      <td>0.0</td>\n",
       "      <td>0.0</td>\n",
       "      <td>0.0</td>\n",
       "      <td>0.0</td>\n",
       "      <td>0.0</td>\n",
       "      <td>0.0</td>\n",
       "      <td>0.0</td>\n",
       "    </tr>\n",
       "    <tr>\n",
       "      <th>2</th>\n",
       "      <td>1.000000</td>\n",
       "      <td>0.951613</td>\n",
       "      <td>0.923963</td>\n",
       "      <td>0.853303</td>\n",
       "      <td>0.791859</td>\n",
       "      <td>0.734255</td>\n",
       "      <td>0.672043</td>\n",
       "      <td>0.685100</td>\n",
       "      <td>0.670507</td>\n",
       "      <td>0.667435</td>\n",
       "      <td>...</td>\n",
       "      <td>0.0</td>\n",
       "      <td>0.0</td>\n",
       "      <td>0.0</td>\n",
       "      <td>0.0</td>\n",
       "      <td>0.0</td>\n",
       "      <td>0.0</td>\n",
       "      <td>0.0</td>\n",
       "      <td>0.0</td>\n",
       "      <td>0.0</td>\n",
       "      <td>0.0</td>\n",
       "    </tr>\n",
       "    <tr>\n",
       "      <th>3</th>\n",
       "      <td>0.977819</td>\n",
       "      <td>0.899261</td>\n",
       "      <td>0.230129</td>\n",
       "      <td>0.032348</td>\n",
       "      <td>0.142329</td>\n",
       "      <td>0.223660</td>\n",
       "      <td>0.328096</td>\n",
       "      <td>0.367837</td>\n",
       "      <td>0.381701</td>\n",
       "      <td>0.389094</td>\n",
       "      <td>...</td>\n",
       "      <td>0.0</td>\n",
       "      <td>0.0</td>\n",
       "      <td>0.0</td>\n",
       "      <td>0.0</td>\n",
       "      <td>0.0</td>\n",
       "      <td>0.0</td>\n",
       "      <td>0.0</td>\n",
       "      <td>0.0</td>\n",
       "      <td>0.0</td>\n",
       "      <td>0.0</td>\n",
       "    </tr>\n",
       "    <tr>\n",
       "      <th>4</th>\n",
       "      <td>0.935618</td>\n",
       "      <td>0.801661</td>\n",
       "      <td>0.805815</td>\n",
       "      <td>1.000000</td>\n",
       "      <td>0.722741</td>\n",
       "      <td>0.480789</td>\n",
       "      <td>0.454829</td>\n",
       "      <td>0.319834</td>\n",
       "      <td>0.266874</td>\n",
       "      <td>0.308411</td>\n",
       "      <td>...</td>\n",
       "      <td>0.0</td>\n",
       "      <td>0.0</td>\n",
       "      <td>0.0</td>\n",
       "      <td>0.0</td>\n",
       "      <td>0.0</td>\n",
       "      <td>0.0</td>\n",
       "      <td>0.0</td>\n",
       "      <td>0.0</td>\n",
       "      <td>0.0</td>\n",
       "      <td>0.0</td>\n",
       "    </tr>\n",
       "    <tr>\n",
       "      <th>5</th>\n",
       "      <td>0.925265</td>\n",
       "      <td>0.433352</td>\n",
       "      <td>0.073620</td>\n",
       "      <td>0.079197</td>\n",
       "      <td>0.136643</td>\n",
       "      <td>0.182934</td>\n",
       "      <td>0.182934</td>\n",
       "      <td>0.182376</td>\n",
       "      <td>0.196877</td>\n",
       "      <td>0.203569</td>\n",
       "      <td>...</td>\n",
       "      <td>0.0</td>\n",
       "      <td>0.0</td>\n",
       "      <td>0.0</td>\n",
       "      <td>0.0</td>\n",
       "      <td>0.0</td>\n",
       "      <td>0.0</td>\n",
       "      <td>0.0</td>\n",
       "      <td>0.0</td>\n",
       "      <td>0.0</td>\n",
       "      <td>0.0</td>\n",
       "    </tr>\n",
       "    <tr>\n",
       "      <th>6</th>\n",
       "      <td>0.999144</td>\n",
       "      <td>0.774829</td>\n",
       "      <td>0.522260</td>\n",
       "      <td>0.250856</td>\n",
       "      <td>0.000000</td>\n",
       "      <td>0.066781</td>\n",
       "      <td>0.093322</td>\n",
       "      <td>0.144692</td>\n",
       "      <td>0.154110</td>\n",
       "      <td>0.152397</td>\n",
       "      <td>...</td>\n",
       "      <td>0.0</td>\n",
       "      <td>0.0</td>\n",
       "      <td>0.0</td>\n",
       "      <td>0.0</td>\n",
       "      <td>0.0</td>\n",
       "      <td>0.0</td>\n",
       "      <td>0.0</td>\n",
       "      <td>0.0</td>\n",
       "      <td>0.0</td>\n",
       "      <td>0.0</td>\n",
       "    </tr>\n",
       "    <tr>\n",
       "      <th>7</th>\n",
       "      <td>1.000000</td>\n",
       "      <td>0.871452</td>\n",
       "      <td>0.678353</td>\n",
       "      <td>0.357262</td>\n",
       "      <td>0.051196</td>\n",
       "      <td>0.000000</td>\n",
       "      <td>0.090707</td>\n",
       "      <td>0.142460</td>\n",
       "      <td>0.138564</td>\n",
       "      <td>0.185309</td>\n",
       "      <td>...</td>\n",
       "      <td>0.0</td>\n",
       "      <td>0.0</td>\n",
       "      <td>0.0</td>\n",
       "      <td>0.0</td>\n",
       "      <td>0.0</td>\n",
       "      <td>0.0</td>\n",
       "      <td>0.0</td>\n",
       "      <td>0.0</td>\n",
       "      <td>0.0</td>\n",
       "      <td>0.0</td>\n",
       "    </tr>\n",
       "    <tr>\n",
       "      <th>8</th>\n",
       "      <td>1.000000</td>\n",
       "      <td>0.729630</td>\n",
       "      <td>0.583333</td>\n",
       "      <td>0.350926</td>\n",
       "      <td>0.279630</td>\n",
       "      <td>0.321296</td>\n",
       "      <td>0.267593</td>\n",
       "      <td>0.229630</td>\n",
       "      <td>0.218519</td>\n",
       "      <td>0.203704</td>\n",
       "      <td>...</td>\n",
       "      <td>0.0</td>\n",
       "      <td>0.0</td>\n",
       "      <td>0.0</td>\n",
       "      <td>0.0</td>\n",
       "      <td>0.0</td>\n",
       "      <td>0.0</td>\n",
       "      <td>0.0</td>\n",
       "      <td>0.0</td>\n",
       "      <td>0.0</td>\n",
       "      <td>0.0</td>\n",
       "    </tr>\n",
       "    <tr>\n",
       "      <th>9</th>\n",
       "      <td>0.932234</td>\n",
       "      <td>0.810440</td>\n",
       "      <td>0.627595</td>\n",
       "      <td>0.422161</td>\n",
       "      <td>0.263126</td>\n",
       "      <td>0.145910</td>\n",
       "      <td>0.109280</td>\n",
       "      <td>0.088523</td>\n",
       "      <td>0.079976</td>\n",
       "      <td>0.073565</td>\n",
       "      <td>...</td>\n",
       "      <td>0.0</td>\n",
       "      <td>0.0</td>\n",
       "      <td>0.0</td>\n",
       "      <td>0.0</td>\n",
       "      <td>0.0</td>\n",
       "      <td>0.0</td>\n",
       "      <td>0.0</td>\n",
       "      <td>0.0</td>\n",
       "      <td>0.0</td>\n",
       "      <td>0.0</td>\n",
       "    </tr>\n",
       "  </tbody>\n",
       "</table>\n",
       "<p>10 rows × 187 columns</p>\n",
       "</div>"
      ]
     },
     "execution_count": 8,
     "metadata": {},
     "output_type": "execute_result"
    }
   ],
   "execution_count": 8
  },
  {
   "metadata": {},
   "cell_type": "markdown",
   "source": "Pierwszy z wierszy w klasie \"abnormal\"",
   "id": "c8b7b922ce84b99"
  },
  {
   "metadata": {
    "ExecuteTime": {
     "end_time": "2024-06-07T10:16:39.151728Z",
     "start_time": "2024-06-07T10:16:39.057846Z"
    }
   },
   "cell_type": "code",
   "source": [
    "plt.figure(figsize=(12,4))\n",
    "plt.plot(df_abnormal.iloc[0])\n",
    "plt.show()"
   ],
   "id": "5c6471a8d8b7bc7c",
   "outputs": [
    {
     "data": {
      "text/plain": [
       "<Figure size 1200x400 with 1 Axes>"
      ],
      "image/png": "[encoded data removed]"
     },
     "metadata": {},
     "output_type": "display_data"
    }
   ],
   "execution_count": 9
  },
  {
   "metadata": {},
   "cell_type": "markdown",
   "source": [
    "## Filrowanie sygnału\n",
    "Chcemy przefiltrować sygnał filtrem dolnoprzepustowym, aby lekkie wariacje sygnału nie zaburzały uczenia. Używamy heartpy do tego filtrowania sygnału."
   ],
   "id": "87fa6471bfdc4e3a"
  },
  {
   "metadata": {
    "ExecuteTime": {
     "end_time": "2024-06-07T10:16:39.510899Z",
     "start_time": "2024-06-07T10:16:39.155628Z"
    }
   },
   "cell_type": "code",
   "source": [
    "plt.figure(figsize=(12,4))\n",
    "plt.plot(df_normal.iloc[5])\n",
    "plt.show()\n",
    "\n",
    "data_filtered = hp.filter_signal(df_normal.iloc[5], cutoff=8, sample_rate=25.0, order=3, filtertype='lowpass')\n",
    "\n",
    "plt.figure(figsize=(12,4))\n",
    "plt.plot(data_filtered)\n",
    "plt.show()"
   ],
   "id": "93bc77e5e093cd3d",
   "outputs": [
    {
     "data": {
      "text/plain": [
       "<Figure size 1200x400 with 1 Axes>"
      ],
      "image/png": "[encoded data removed]"
     },
     "metadata": {},
     "output_type": "display_data"
    },
    {
     "data": {
      "text/plain": [
       "<Figure size 1200x400 with 1 Axes>"
      ],
      "image/png": "[encoded data removed]"
     },
     "metadata": {},
     "output_type": "display_data"
    }
   ],
   "execution_count": 10
  },
  {
   "metadata": {},
   "cell_type": "markdown",
   "source": "Tworzymy funkcję, która przefiltruje całe zbiory danych.",
   "id": "2b6f547346358bce"
  },
  {
   "metadata": {
    "ExecuteTime": {
     "end_time": "2024-06-07T10:16:39.516686Z",
     "start_time": "2024-06-07T10:16:39.512355Z"
    }
   },
   "cell_type": "code",
   "source": [
    "def apply_lowpass_filter(df):\n",
    "    df_result = pd.DataFrame()\n",
    "    \n",
    "    for i in range(0, len(df)):\n",
    "        filtered = hp.filter_signal(df.iloc[i], cutoff=8, sample_rate=25.0, order=3, filtertype='lowpass')\n",
    "\n",
    "        df_result = pd.concat([df_result, pd.DataFrame([filtered])])\n",
    "        \n",
    "    return df_result"
   ],
   "id": "a40567417325db43",
   "outputs": [],
   "execution_count": 11
  },
  {
   "metadata": {},
   "cell_type": "markdown",
   "source": "Używamy powyższej funkcji na zbiorze danych z klasą \"normal\".",
   "id": "16017781037534c8"
  },
  {
   "metadata": {
    "ExecuteTime": {
     "end_time": "2024-06-07T10:16:46.455149Z",
     "start_time": "2024-06-07T10:16:39.518343Z"
    }
   },
   "cell_type": "code",
   "source": [
    "df_normal = apply_lowpass_filter(df_normal)\n",
    "df_normal = df_normal.reset_index(drop=True)\n",
    "df_normal.head(10)"
   ],
   "id": "f2a0601e0c64092",
   "outputs": [
    {
     "data": {
      "text/plain": [
       "        0         1         2         3         4         5         6    \\\n",
       "0  1.000002  0.854384  0.403068  0.039725  0.038256  0.132519  0.135268   \n",
       "1  0.999999  0.770372  0.408226  0.086878  0.023525  0.160702  0.279913   \n",
       "2  0.909030  0.760749  0.462411  0.158663  0.011819  0.008553  0.057185   \n",
       "3  0.999997  0.449117  0.098008  0.035883  0.087638  0.078262  0.049903   \n",
       "4  1.000001  0.775514  0.304991  0.054341  0.128078  0.149426  0.094851   \n",
       "5  0.948984  0.455272  0.069958 -0.021203  0.071340  0.112125  0.104691   \n",
       "6  1.000005  0.482087  0.120950 -0.002399  0.028936  0.065637  0.061470   \n",
       "7  0.999999  0.465572  0.112578  0.021885  0.114617  0.225799  0.266002   \n",
       "8  0.999973  0.694687  0.186698  0.006727  0.244471  0.356482  0.263862   \n",
       "9  1.000000  0.694075  0.343505  0.073489  0.047552  0.195691  0.294492   \n",
       "\n",
       "        7         8         9    ...           177           178  \\\n",
       "0  0.114923  0.113544  0.111731  ...  5.434679e-14  1.217738e-14   \n",
       "1  0.304991  0.317618  0.347677  ...  1.591463e-11  3.597487e-13   \n",
       "2  0.080695  0.075718  0.074361  ...  1.110554e-04 -5.204568e-05   \n",
       "3  0.051925  0.051884  0.044428  ...  1.571804e-10 -7.805846e-12   \n",
       "4  0.093642  0.102194  0.093689  ... -1.354771e-10  6.150018e-11   \n",
       "5  0.112812  0.118356  0.114429  ...  1.387922e-13 -1.178370e-12   \n",
       "6  0.051301  0.051361  0.054654  ... -7.312344e-08 -5.004890e-08   \n",
       "7  0.262064  0.262129  0.272998  ... -4.946460e-09 -5.745575e-09   \n",
       "8  0.236489  0.272210  0.267821  ...  1.876856e-19  5.864475e-18   \n",
       "9  0.301184  0.318007  0.351880  ...  1.453792e-11  2.662269e-13   \n",
       "\n",
       "            179           180           181           182           183  \\\n",
       "0 -2.762940e-14  1.160819e-14  3.610845e-15 -6.493559e-15  2.445856e-15   \n",
       "1 -6.211030e-12  3.505931e-12  2.861241e-13 -1.489557e-12  7.654615e-13   \n",
       "2 -1.135515e-05  2.627975e-05 -1.112686e-05 -3.384202e-06  6.179209e-06   \n",
       "3 -5.468328e-11  3.500407e-11  9.350594e-14 -1.325200e-11  7.734470e-12   \n",
       "4  1.501943e-11 -3.199268e-11  1.309489e-11  4.384216e-12 -7.507504e-12   \n",
       "5  6.385581e-13  6.987671e-14 -2.817172e-13  1.388277e-13  2.481712e-14   \n",
       "6  5.691284e-08 -1.449898e-08 -1.295635e-08  1.306277e-08 -2.773992e-09   \n",
       "7  5.233570e-09 -9.022861e-10 -1.444136e-09  1.186884e-09 -1.514109e-10   \n",
       "8 -3.509137e-18 -1.535868e-19  1.413058e-18 -7.705791e-19 -8.095386e-20   \n",
       "9 -5.637152e-12  3.204723e-12  2.463619e-13 -1.352683e-12  7.002026e-13   \n",
       "\n",
       "            184           185           186  \n",
       "0  1.014178e-15 -1.516756e-15  5.069101e-16  \n",
       "1  1.127973e-13 -3.547282e-13  1.654506e-13  \n",
       "2 -2.346994e-06 -9.536288e-07  1.443975e-06  \n",
       "3  4.614975e-13 -3.186630e-12  1.694330e-12  \n",
       "4  2.748756e-12  1.218867e-12 -1.750957e-12  \n",
       "5 -6.689108e-14  2.986212e-14  7.711056e-15  \n",
       "6 -3.298505e-09  2.979786e-09 -5.034497e-10  \n",
       "7 -3.587049e-10  2.673960e-10 -2.153572e-11  \n",
       "8  3.379867e-19 -1.676425e-19 -2.913861e-20  \n",
       "9  9.945480e-14 -3.223015e-13  1.514692e-13  \n",
       "\n",
       "[10 rows x 187 columns]"
      ],
      "text/html": [
       "<div>\n",
       "<style scoped>\n",
       "    .dataframe tbody tr th:only-of-type {\n",
       "        vertical-align: middle;\n",
       "    }\n",
       "\n",
       "    .dataframe tbody tr th {\n",
       "        vertical-align: top;\n",
       "    }\n",
       "\n",
       "    .dataframe thead th {\n",
       "        text-align: right;\n",
       "    }\n",
       "</style>\n",
       "<table border=\"1\" class=\"dataframe\">\n",
       "  <thead>\n",
       "    <tr style=\"text-align: right;\">\n",
       "      <th></th>\n",
       "      <th>0</th>\n",
       "      <th>1</th>\n",
       "      <th>2</th>\n",
       "      <th>3</th>\n",
       "      <th>4</th>\n",
       "      <th>5</th>\n",
       "      <th>6</th>\n",
       "      <th>7</th>\n",
       "      <th>8</th>\n",
       "      <th>9</th>\n",
       "      <th>...</th>\n",
       "      <th>177</th>\n",
       "      <th>178</th>\n",
       "      <th>179</th>\n",
       "      <th>180</th>\n",
       "      <th>181</th>\n",
       "      <th>182</th>\n",
       "      <th>183</th>\n",
       "      <th>184</th>\n",
       "      <th>185</th>\n",
       "      <th>186</th>\n",
       "    </tr>\n",
       "  </thead>\n",
       "  <tbody>\n",
       "    <tr>\n",
       "      <th>0</th>\n",
       "      <td>1.000002</td>\n",
       "      <td>0.854384</td>\n",
       "      <td>0.403068</td>\n",
       "      <td>0.039725</td>\n",
       "      <td>0.038256</td>\n",
       "      <td>0.132519</td>\n",
       "      <td>0.135268</td>\n",
       "      <td>0.114923</td>\n",
       "      <td>0.113544</td>\n",
       "      <td>0.111731</td>\n",
       "      <td>...</td>\n",
       "      <td>5.434679e-14</td>\n",
       "      <td>1.217738e-14</td>\n",
       "      <td>-2.762940e-14</td>\n",
       "      <td>1.160819e-14</td>\n",
       "      <td>3.610845e-15</td>\n",
       "      <td>-6.493559e-15</td>\n",
       "      <td>2.445856e-15</td>\n",
       "      <td>1.014178e-15</td>\n",
       "      <td>-1.516756e-15</td>\n",
       "      <td>5.069101e-16</td>\n",
       "    </tr>\n",
       "    <tr>\n",
       "      <th>1</th>\n",
       "      <td>0.999999</td>\n",
       "      <td>0.770372</td>\n",
       "      <td>0.408226</td>\n",
       "      <td>0.086878</td>\n",
       "      <td>0.023525</td>\n",
       "      <td>0.160702</td>\n",
       "      <td>0.279913</td>\n",
       "      <td>0.304991</td>\n",
       "      <td>0.317618</td>\n",
       "      <td>0.347677</td>\n",
       "      <td>...</td>\n",
       "      <td>1.591463e-11</td>\n",
       "      <td>3.597487e-13</td>\n",
       "      <td>-6.211030e-12</td>\n",
       "      <td>3.505931e-12</td>\n",
       "      <td>2.861241e-13</td>\n",
       "      <td>-1.489557e-12</td>\n",
       "      <td>7.654615e-13</td>\n",
       "      <td>1.127973e-13</td>\n",
       "      <td>-3.547282e-13</td>\n",
       "      <td>1.654506e-13</td>\n",
       "    </tr>\n",
       "    <tr>\n",
       "      <th>2</th>\n",
       "      <td>0.909030</td>\n",
       "      <td>0.760749</td>\n",
       "      <td>0.462411</td>\n",
       "      <td>0.158663</td>\n",
       "      <td>0.011819</td>\n",
       "      <td>0.008553</td>\n",
       "      <td>0.057185</td>\n",
       "      <td>0.080695</td>\n",
       "      <td>0.075718</td>\n",
       "      <td>0.074361</td>\n",
       "      <td>...</td>\n",
       "      <td>1.110554e-04</td>\n",
       "      <td>-5.204568e-05</td>\n",
       "      <td>-1.135515e-05</td>\n",
       "      <td>2.627975e-05</td>\n",
       "      <td>-1.112686e-05</td>\n",
       "      <td>-3.384202e-06</td>\n",
       "      <td>6.179209e-06</td>\n",
       "      <td>-2.346994e-06</td>\n",
       "      <td>-9.536288e-07</td>\n",
       "      <td>1.443975e-06</td>\n",
       "    </tr>\n",
       "    <tr>\n",
       "      <th>3</th>\n",
       "      <td>0.999997</td>\n",
       "      <td>0.449117</td>\n",
       "      <td>0.098008</td>\n",
       "      <td>0.035883</td>\n",
       "      <td>0.087638</td>\n",
       "      <td>0.078262</td>\n",
       "      <td>0.049903</td>\n",
       "      <td>0.051925</td>\n",
       "      <td>0.051884</td>\n",
       "      <td>0.044428</td>\n",
       "      <td>...</td>\n",
       "      <td>1.571804e-10</td>\n",
       "      <td>-7.805846e-12</td>\n",
       "      <td>-5.468328e-11</td>\n",
       "      <td>3.500407e-11</td>\n",
       "      <td>9.350594e-14</td>\n",
       "      <td>-1.325200e-11</td>\n",
       "      <td>7.734470e-12</td>\n",
       "      <td>4.614975e-13</td>\n",
       "      <td>-3.186630e-12</td>\n",
       "      <td>1.694330e-12</td>\n",
       "    </tr>\n",
       "    <tr>\n",
       "      <th>4</th>\n",
       "      <td>1.000001</td>\n",
       "      <td>0.775514</td>\n",
       "      <td>0.304991</td>\n",
       "      <td>0.054341</td>\n",
       "      <td>0.128078</td>\n",
       "      <td>0.149426</td>\n",
       "      <td>0.094851</td>\n",
       "      <td>0.093642</td>\n",
       "      <td>0.102194</td>\n",
       "      <td>0.093689</td>\n",
       "      <td>...</td>\n",
       "      <td>-1.354771e-10</td>\n",
       "      <td>6.150018e-11</td>\n",
       "      <td>1.501943e-11</td>\n",
       "      <td>-3.199268e-11</td>\n",
       "      <td>1.309489e-11</td>\n",
       "      <td>4.384216e-12</td>\n",
       "      <td>-7.507504e-12</td>\n",
       "      <td>2.748756e-12</td>\n",
       "      <td>1.218867e-12</td>\n",
       "      <td>-1.750957e-12</td>\n",
       "    </tr>\n",
       "    <tr>\n",
       "      <th>5</th>\n",
       "      <td>0.948984</td>\n",
       "      <td>0.455272</td>\n",
       "      <td>0.069958</td>\n",
       "      <td>-0.021203</td>\n",
       "      <td>0.071340</td>\n",
       "      <td>0.112125</td>\n",
       "      <td>0.104691</td>\n",
       "      <td>0.112812</td>\n",
       "      <td>0.118356</td>\n",
       "      <td>0.114429</td>\n",
       "      <td>...</td>\n",
       "      <td>1.387922e-13</td>\n",
       "      <td>-1.178370e-12</td>\n",
       "      <td>6.385581e-13</td>\n",
       "      <td>6.987671e-14</td>\n",
       "      <td>-2.817172e-13</td>\n",
       "      <td>1.388277e-13</td>\n",
       "      <td>2.481712e-14</td>\n",
       "      <td>-6.689108e-14</td>\n",
       "      <td>2.986212e-14</td>\n",
       "      <td>7.711056e-15</td>\n",
       "    </tr>\n",
       "    <tr>\n",
       "      <th>6</th>\n",
       "      <td>1.000005</td>\n",
       "      <td>0.482087</td>\n",
       "      <td>0.120950</td>\n",
       "      <td>-0.002399</td>\n",
       "      <td>0.028936</td>\n",
       "      <td>0.065637</td>\n",
       "      <td>0.061470</td>\n",
       "      <td>0.051301</td>\n",
       "      <td>0.051361</td>\n",
       "      <td>0.054654</td>\n",
       "      <td>...</td>\n",
       "      <td>-7.312344e-08</td>\n",
       "      <td>-5.004890e-08</td>\n",
       "      <td>5.691284e-08</td>\n",
       "      <td>-1.449898e-08</td>\n",
       "      <td>-1.295635e-08</td>\n",
       "      <td>1.306277e-08</td>\n",
       "      <td>-2.773992e-09</td>\n",
       "      <td>-3.298505e-09</td>\n",
       "      <td>2.979786e-09</td>\n",
       "      <td>-5.034497e-10</td>\n",
       "    </tr>\n",
       "    <tr>\n",
       "      <th>7</th>\n",
       "      <td>0.999999</td>\n",
       "      <td>0.465572</td>\n",
       "      <td>0.112578</td>\n",
       "      <td>0.021885</td>\n",
       "      <td>0.114617</td>\n",
       "      <td>0.225799</td>\n",
       "      <td>0.266002</td>\n",
       "      <td>0.262064</td>\n",
       "      <td>0.262129</td>\n",
       "      <td>0.272998</td>\n",
       "      <td>...</td>\n",
       "      <td>-4.946460e-09</td>\n",
       "      <td>-5.745575e-09</td>\n",
       "      <td>5.233570e-09</td>\n",
       "      <td>-9.022861e-10</td>\n",
       "      <td>-1.444136e-09</td>\n",
       "      <td>1.186884e-09</td>\n",
       "      <td>-1.514109e-10</td>\n",
       "      <td>-3.587049e-10</td>\n",
       "      <td>2.673960e-10</td>\n",
       "      <td>-2.153572e-11</td>\n",
       "    </tr>\n",
       "    <tr>\n",
       "      <th>8</th>\n",
       "      <td>0.999973</td>\n",
       "      <td>0.694687</td>\n",
       "      <td>0.186698</td>\n",
       "      <td>0.006727</td>\n",
       "      <td>0.244471</td>\n",
       "      <td>0.356482</td>\n",
       "      <td>0.263862</td>\n",
       "      <td>0.236489</td>\n",
       "      <td>0.272210</td>\n",
       "      <td>0.267821</td>\n",
       "      <td>...</td>\n",
       "      <td>1.876856e-19</td>\n",
       "      <td>5.864475e-18</td>\n",
       "      <td>-3.509137e-18</td>\n",
       "      <td>-1.535868e-19</td>\n",
       "      <td>1.413058e-18</td>\n",
       "      <td>-7.705791e-19</td>\n",
       "      <td>-8.095386e-20</td>\n",
       "      <td>3.379867e-19</td>\n",
       "      <td>-1.676425e-19</td>\n",
       "      <td>-2.913861e-20</td>\n",
       "    </tr>\n",
       "    <tr>\n",
       "      <th>9</th>\n",
       "      <td>1.000000</td>\n",
       "      <td>0.694075</td>\n",
       "      <td>0.343505</td>\n",
       "      <td>0.073489</td>\n",
       "      <td>0.047552</td>\n",
       "      <td>0.195691</td>\n",
       "      <td>0.294492</td>\n",
       "      <td>0.301184</td>\n",
       "      <td>0.318007</td>\n",
       "      <td>0.351880</td>\n",
       "      <td>...</td>\n",
       "      <td>1.453792e-11</td>\n",
       "      <td>2.662269e-13</td>\n",
       "      <td>-5.637152e-12</td>\n",
       "      <td>3.204723e-12</td>\n",
       "      <td>2.463619e-13</td>\n",
       "      <td>-1.352683e-12</td>\n",
       "      <td>7.002026e-13</td>\n",
       "      <td>9.945480e-14</td>\n",
       "      <td>-3.223015e-13</td>\n",
       "      <td>1.514692e-13</td>\n",
       "    </tr>\n",
       "  </tbody>\n",
       "</table>\n",
       "<p>10 rows × 187 columns</p>\n",
       "</div>"
      ]
     },
     "execution_count": 12,
     "metadata": {},
     "output_type": "execute_result"
    }
   ],
   "execution_count": 12
  },
  {
   "metadata": {},
   "cell_type": "markdown",
   "source": "To samo robimy dla klasy \"abnormal\". Resetujemy index dlatego, że został on zniszczony podczas filtracji.",
   "id": "4f0ac2ff71073cf7"
  },
  {
   "metadata": {
    "ExecuteTime": {
     "end_time": "2024-06-07T10:17:13.573146Z",
     "start_time": "2024-06-07T10:16:46.456036Z"
    }
   },
   "cell_type": "code",
   "source": [
    "df_abnormal = apply_lowpass_filter(df_abnormal)\n",
    "df_abnormal = df_abnormal.reset_index(drop=True)\n",
    "df_abnormal.head(10)"
   ],
   "id": "4fcf55d607508ebf",
   "outputs": [
    {
     "data": {
      "text/plain": [
       "        0         1         2         3         4         5         6    \\\n",
       "0  0.932252  0.875520  0.884205  0.918772  0.933111  0.904035  0.825016   \n",
       "1  1.000005  0.618659  0.372918  0.254351  0.233937  0.266280  0.255019   \n",
       "2  1.000003  0.957961  0.914979  0.859784  0.791948  0.726190  0.685390   \n",
       "3  0.977830  0.816402  0.316325  0.006791  0.115812  0.258144  0.311946   \n",
       "4  0.935621  0.775073  0.860739  0.940565  0.746684  0.504097  0.413157   \n",
       "5  0.925272  0.414352  0.100634  0.059634  0.143051  0.183658  0.181259   \n",
       "6  0.999168  0.778768  0.524947  0.230658  0.034373  0.034628  0.111092   \n",
       "7  0.999987  0.877156  0.675280  0.350972  0.060551 -0.001355  0.086389   \n",
       "8  0.999991  0.756676  0.548922  0.368661  0.287305  0.300660  0.282567   \n",
       "9  0.932231  0.808041  0.628448  0.425113  0.257501  0.151796  0.105167   \n",
       "\n",
       "        7         8         9    ...           177           178  \\\n",
       "0  0.739712  0.682774  0.649159  ...  4.711595e-26 -9.319866e-27   \n",
       "1  0.191705  0.144576  0.127736  ... -2.538301e-09 -4.833629e-09   \n",
       "2  0.673206  0.673472  0.676853  ... -4.535510e-20 -1.581167e-21   \n",
       "3  0.366156  0.391198  0.378361  ...  9.657592e-18 -1.457977e-18   \n",
       "4  0.343780  0.273222  0.281839  ...  1.746478e-27  7.133976e-29   \n",
       "5  0.183831  0.194719  0.206727  ...  2.628698e-20  1.061961e-19   \n",
       "6  0.141711  0.146645  0.165334  ... -6.168539e-16  2.188986e-16   \n",
       "7  0.140076  0.152599  0.167059  ... -5.401358e-10 -1.002387e-09   \n",
       "8  0.228126  0.209754  0.217546  ...  1.672931e-06 -5.798436e-07   \n",
       "9  0.090430  0.079537  0.072717  ...  5.319047e-09  6.050762e-10   \n",
       "\n",
       "            179           180           181           182           183  \\\n",
       "0 -1.229928e-26  1.072490e-26 -1.651017e-27 -3.075484e-27  2.425637e-27   \n",
       "1  3.790971e-09 -4.003019e-10 -1.194566e-09  8.513024e-10 -4.875000e-11   \n",
       "2  1.802675e-20 -9.973060e-21 -9.491519e-22  4.316521e-21 -2.172953e-21   \n",
       "3 -2.786269e-18  2.183290e-18 -2.296011e-19 -6.885239e-19  4.902492e-19   \n",
       "4 -7.002813e-28  3.836826e-28  3.906352e-29 -1.675586e-28  8.351287e-29   \n",
       "5 -7.217404e-20  2.278208e-21  2.587521e-20 -1.602971e-20 -3.571171e-22   \n",
       "6  1.042237e-16 -1.436357e-16  4.492023e-17  2.781632e-17 -3.324461e-17   \n",
       "7  7.913466e-10 -8.605282e-11 -2.478989e-10  1.777881e-10 -1.077572e-11   \n",
       "8 -2.907599e-07  3.890859e-07 -1.185015e-07 -7.721440e-08  8.994848e-08   \n",
       "9 -2.360138e-09  1.155638e-09  2.122580e-10 -5.601448e-10  2.483909e-10   \n",
       "\n",
       "            184           185           186  \n",
       "0 -2.626477e-28 -7.605221e-28  5.449178e-28  \n",
       "1 -2.923748e-10  1.898010e-10 -1.049451e-12  \n",
       "2 -3.533971e-22  1.026446e-21 -4.685683e-22  \n",
       "3 -2.784905e-20 -1.685058e-19  1.092947e-19  \n",
       "4  1.420875e-29 -3.981672e-29  1.798759e-29  \n",
       "5  6.252887e-21 -3.531468e-21 -2.869580e-22  \n",
       "6  9.004208e-18  7.254664e-18 -7.648174e-18  \n",
       "7 -6.071163e-11  3.965829e-11 -3.622141e-13  \n",
       "8 -2.362596e-08 -2.006034e-08  2.066883e-08  \n",
       "9  6.555240e-11 -1.320822e-10  5.272533e-11  \n",
       "\n",
       "[10 rows x 187 columns]"
      ],
      "text/html": [
       "<div>\n",
       "<style scoped>\n",
       "    .dataframe tbody tr th:only-of-type {\n",
       "        vertical-align: middle;\n",
       "    }\n",
       "\n",
       "    .dataframe tbody tr th {\n",
       "        vertical-align: top;\n",
       "    }\n",
       "\n",
       "    .dataframe thead th {\n",
       "        text-align: right;\n",
       "    }\n",
       "</style>\n",
       "<table border=\"1\" class=\"dataframe\">\n",
       "  <thead>\n",
       "    <tr style=\"text-align: right;\">\n",
       "      <th></th>\n",
       "      <th>0</th>\n",
       "      <th>1</th>\n",
       "      <th>2</th>\n",
       "      <th>3</th>\n",
       "      <th>4</th>\n",
       "      <th>5</th>\n",
       "      <th>6</th>\n",
       "      <th>7</th>\n",
       "      <th>8</th>\n",
       "      <th>9</th>\n",
       "      <th>...</th>\n",
       "      <th>177</th>\n",
       "      <th>178</th>\n",
       "      <th>179</th>\n",
       "      <th>180</th>\n",
       "      <th>181</th>\n",
       "      <th>182</th>\n",
       "      <th>183</th>\n",
       "      <th>184</th>\n",
       "      <th>185</th>\n",
       "      <th>186</th>\n",
       "    </tr>\n",
       "  </thead>\n",
       "  <tbody>\n",
       "    <tr>\n",
       "      <th>0</th>\n",
       "      <td>0.932252</td>\n",
       "      <td>0.875520</td>\n",
       "      <td>0.884205</td>\n",
       "      <td>0.918772</td>\n",
       "      <td>0.933111</td>\n",
       "      <td>0.904035</td>\n",
       "      <td>0.825016</td>\n",
       "      <td>0.739712</td>\n",
       "      <td>0.682774</td>\n",
       "      <td>0.649159</td>\n",
       "      <td>...</td>\n",
       "      <td>4.711595e-26</td>\n",
       "      <td>-9.319866e-27</td>\n",
       "      <td>-1.229928e-26</td>\n",
       "      <td>1.072490e-26</td>\n",
       "      <td>-1.651017e-27</td>\n",
       "      <td>-3.075484e-27</td>\n",
       "      <td>2.425637e-27</td>\n",
       "      <td>-2.626477e-28</td>\n",
       "      <td>-7.605221e-28</td>\n",
       "      <td>5.449178e-28</td>\n",
       "    </tr>\n",
       "    <tr>\n",
       "      <th>1</th>\n",
       "      <td>1.000005</td>\n",
       "      <td>0.618659</td>\n",
       "      <td>0.372918</td>\n",
       "      <td>0.254351</td>\n",
       "      <td>0.233937</td>\n",
       "      <td>0.266280</td>\n",
       "      <td>0.255019</td>\n",
       "      <td>0.191705</td>\n",
       "      <td>0.144576</td>\n",
       "      <td>0.127736</td>\n",
       "      <td>...</td>\n",
       "      <td>-2.538301e-09</td>\n",
       "      <td>-4.833629e-09</td>\n",
       "      <td>3.790971e-09</td>\n",
       "      <td>-4.003019e-10</td>\n",
       "      <td>-1.194566e-09</td>\n",
       "      <td>8.513024e-10</td>\n",
       "      <td>-4.875000e-11</td>\n",
       "      <td>-2.923748e-10</td>\n",
       "      <td>1.898010e-10</td>\n",
       "      <td>-1.049451e-12</td>\n",
       "    </tr>\n",
       "    <tr>\n",
       "      <th>2</th>\n",
       "      <td>1.000003</td>\n",
       "      <td>0.957961</td>\n",
       "      <td>0.914979</td>\n",
       "      <td>0.859784</td>\n",
       "      <td>0.791948</td>\n",
       "      <td>0.726190</td>\n",
       "      <td>0.685390</td>\n",
       "      <td>0.673206</td>\n",
       "      <td>0.673472</td>\n",
       "      <td>0.676853</td>\n",
       "      <td>...</td>\n",
       "      <td>-4.535510e-20</td>\n",
       "      <td>-1.581167e-21</td>\n",
       "      <td>1.802675e-20</td>\n",
       "      <td>-9.973060e-21</td>\n",
       "      <td>-9.491519e-22</td>\n",
       "      <td>4.316521e-21</td>\n",
       "      <td>-2.172953e-21</td>\n",
       "      <td>-3.533971e-22</td>\n",
       "      <td>1.026446e-21</td>\n",
       "      <td>-4.685683e-22</td>\n",
       "    </tr>\n",
       "    <tr>\n",
       "      <th>3</th>\n",
       "      <td>0.977830</td>\n",
       "      <td>0.816402</td>\n",
       "      <td>0.316325</td>\n",
       "      <td>0.006791</td>\n",
       "      <td>0.115812</td>\n",
       "      <td>0.258144</td>\n",
       "      <td>0.311946</td>\n",
       "      <td>0.366156</td>\n",
       "      <td>0.391198</td>\n",
       "      <td>0.378361</td>\n",
       "      <td>...</td>\n",
       "      <td>9.657592e-18</td>\n",
       "      <td>-1.457977e-18</td>\n",
       "      <td>-2.786269e-18</td>\n",
       "      <td>2.183290e-18</td>\n",
       "      <td>-2.296011e-19</td>\n",
       "      <td>-6.885239e-19</td>\n",
       "      <td>4.902492e-19</td>\n",
       "      <td>-2.784905e-20</td>\n",
       "      <td>-1.685058e-19</td>\n",
       "      <td>1.092947e-19</td>\n",
       "    </tr>\n",
       "    <tr>\n",
       "      <th>4</th>\n",
       "      <td>0.935621</td>\n",
       "      <td>0.775073</td>\n",
       "      <td>0.860739</td>\n",
       "      <td>0.940565</td>\n",
       "      <td>0.746684</td>\n",
       "      <td>0.504097</td>\n",
       "      <td>0.413157</td>\n",
       "      <td>0.343780</td>\n",
       "      <td>0.273222</td>\n",
       "      <td>0.281839</td>\n",
       "      <td>...</td>\n",
       "      <td>1.746478e-27</td>\n",
       "      <td>7.133976e-29</td>\n",
       "      <td>-7.002813e-28</td>\n",
       "      <td>3.836826e-28</td>\n",
       "      <td>3.906352e-29</td>\n",
       "      <td>-1.675586e-28</td>\n",
       "      <td>8.351287e-29</td>\n",
       "      <td>1.420875e-29</td>\n",
       "      <td>-3.981672e-29</td>\n",
       "      <td>1.798759e-29</td>\n",
       "    </tr>\n",
       "    <tr>\n",
       "      <th>5</th>\n",
       "      <td>0.925272</td>\n",
       "      <td>0.414352</td>\n",
       "      <td>0.100634</td>\n",
       "      <td>0.059634</td>\n",
       "      <td>0.143051</td>\n",
       "      <td>0.183658</td>\n",
       "      <td>0.181259</td>\n",
       "      <td>0.183831</td>\n",
       "      <td>0.194719</td>\n",
       "      <td>0.206727</td>\n",
       "      <td>...</td>\n",
       "      <td>2.628698e-20</td>\n",
       "      <td>1.061961e-19</td>\n",
       "      <td>-7.217404e-20</td>\n",
       "      <td>2.278208e-21</td>\n",
       "      <td>2.587521e-20</td>\n",
       "      <td>-1.602971e-20</td>\n",
       "      <td>-3.571171e-22</td>\n",
       "      <td>6.252887e-21</td>\n",
       "      <td>-3.531468e-21</td>\n",
       "      <td>-2.869580e-22</td>\n",
       "    </tr>\n",
       "    <tr>\n",
       "      <th>6</th>\n",
       "      <td>0.999168</td>\n",
       "      <td>0.778768</td>\n",
       "      <td>0.524947</td>\n",
       "      <td>0.230658</td>\n",
       "      <td>0.034373</td>\n",
       "      <td>0.034628</td>\n",
       "      <td>0.111092</td>\n",
       "      <td>0.141711</td>\n",
       "      <td>0.146645</td>\n",
       "      <td>0.165334</td>\n",
       "      <td>...</td>\n",
       "      <td>-6.168539e-16</td>\n",
       "      <td>2.188986e-16</td>\n",
       "      <td>1.042237e-16</td>\n",
       "      <td>-1.436357e-16</td>\n",
       "      <td>4.492023e-17</td>\n",
       "      <td>2.781632e-17</td>\n",
       "      <td>-3.324461e-17</td>\n",
       "      <td>9.004208e-18</td>\n",
       "      <td>7.254664e-18</td>\n",
       "      <td>-7.648174e-18</td>\n",
       "    </tr>\n",
       "    <tr>\n",
       "      <th>7</th>\n",
       "      <td>0.999987</td>\n",
       "      <td>0.877156</td>\n",
       "      <td>0.675280</td>\n",
       "      <td>0.350972</td>\n",
       "      <td>0.060551</td>\n",
       "      <td>-0.001355</td>\n",
       "      <td>0.086389</td>\n",
       "      <td>0.140076</td>\n",
       "      <td>0.152599</td>\n",
       "      <td>0.167059</td>\n",
       "      <td>...</td>\n",
       "      <td>-5.401358e-10</td>\n",
       "      <td>-1.002387e-09</td>\n",
       "      <td>7.913466e-10</td>\n",
       "      <td>-8.605282e-11</td>\n",
       "      <td>-2.478989e-10</td>\n",
       "      <td>1.777881e-10</td>\n",
       "      <td>-1.077572e-11</td>\n",
       "      <td>-6.071163e-11</td>\n",
       "      <td>3.965829e-11</td>\n",
       "      <td>-3.622141e-13</td>\n",
       "    </tr>\n",
       "    <tr>\n",
       "      <th>8</th>\n",
       "      <td>0.999991</td>\n",
       "      <td>0.756676</td>\n",
       "      <td>0.548922</td>\n",
       "      <td>0.368661</td>\n",
       "      <td>0.287305</td>\n",
       "      <td>0.300660</td>\n",
       "      <td>0.282567</td>\n",
       "      <td>0.228126</td>\n",
       "      <td>0.209754</td>\n",
       "      <td>0.217546</td>\n",
       "      <td>...</td>\n",
       "      <td>1.672931e-06</td>\n",
       "      <td>-5.798436e-07</td>\n",
       "      <td>-2.907599e-07</td>\n",
       "      <td>3.890859e-07</td>\n",
       "      <td>-1.185015e-07</td>\n",
       "      <td>-7.721440e-08</td>\n",
       "      <td>8.994848e-08</td>\n",
       "      <td>-2.362596e-08</td>\n",
       "      <td>-2.006034e-08</td>\n",
       "      <td>2.066883e-08</td>\n",
       "    </tr>\n",
       "    <tr>\n",
       "      <th>9</th>\n",
       "      <td>0.932231</td>\n",
       "      <td>0.808041</td>\n",
       "      <td>0.628448</td>\n",
       "      <td>0.425113</td>\n",
       "      <td>0.257501</td>\n",
       "      <td>0.151796</td>\n",
       "      <td>0.105167</td>\n",
       "      <td>0.090430</td>\n",
       "      <td>0.079537</td>\n",
       "      <td>0.072717</td>\n",
       "      <td>...</td>\n",
       "      <td>5.319047e-09</td>\n",
       "      <td>6.050762e-10</td>\n",
       "      <td>-2.360138e-09</td>\n",
       "      <td>1.155638e-09</td>\n",
       "      <td>2.122580e-10</td>\n",
       "      <td>-5.601448e-10</td>\n",
       "      <td>2.483909e-10</td>\n",
       "      <td>6.555240e-11</td>\n",
       "      <td>-1.320822e-10</td>\n",
       "      <td>5.272533e-11</td>\n",
       "    </tr>\n",
       "  </tbody>\n",
       "</table>\n",
       "<p>10 rows × 187 columns</p>\n",
       "</div>"
      ]
     },
     "execution_count": 13,
     "metadata": {},
     "output_type": "execute_result"
    }
   ],
   "execution_count": 13
  },
  {
   "metadata": {},
   "cell_type": "markdown",
   "source": [
    "## Łączenie zbiorów danych\n",
    "Łączymy dwa zbiory, tak aby można było je podzielić na dane uczące i testowe. Dodajemy z powrotem kolumnę oznaczającą klasę danych."
   ],
   "id": "b46435deb10fe778"
  },
  {
   "metadata": {
    "ExecuteTime": {
     "end_time": "2024-06-07T10:17:13.581865Z",
     "start_time": "2024-06-07T10:17:13.573976Z"
    }
   },
   "cell_type": "code",
   "source": [
    "df_normal[\"class\"] = 0\n",
    "df_abnormal[\"class\"] = 1\n",
    "\n",
    "df_merged = pd.concat([df_normal, df_abnormal])\n",
    "print(f\"Ilość wierszy: zbiór \\\"normal\\\" {df_normal.shape[0]} + zbiór \\\"abnormal\\\" {df_abnormal.shape[0]} = końcowy zbiór {df_merged.shape[0]}\")"
   ],
   "id": "1a2c2f9378b7ed2b",
   "outputs": [
    {
     "name": "stdout",
     "output_type": "stream",
     "text": [
      "Ilość wierszy: zbiór \"normal\" 4046 + zbiór \"abnormal\" 10506 = końcowy zbiór 14552\n"
     ]
    }
   ],
   "execution_count": 14
  },
  {
   "metadata": {},
   "cell_type": "markdown",
   "source": "Jak widać ilość danych się zgadza, a więc zbiory zostały poprawnie połączone.",
   "id": "d83f77f363d020a6"
  },
  {
   "metadata": {},
   "cell_type": "markdown",
   "source": [
    "## Dzielenie danych na uczące i testowe\n",
    "Standardowo dzielimy dane na uczące i testowe przy pomocy funkcji train_test_split."
   ],
   "id": "796f823e"
  },
  {
   "cell_type": "code",
   "id": "dc63edd726d97896",
   "metadata": {
    "collapsed": false,
    "ExecuteTime": {
     "end_time": "2024-06-07T10:17:14.807579Z",
     "start_time": "2024-06-07T10:17:13.582576Z"
    }
   },
   "source": [
    "from sklearn.model_selection import train_test_split\n",
    "\n",
    "X = df_merged.iloc[:, :-1]\n",
    "y = df_merged.iloc[:, -1]\n",
    "X_train, X_test, y_train, y_test = train_test_split(X, y, test_size=0.25, random_state=16)\n",
    "# klasyfikacja modelu czasowych, wykrywac w sposob dynamiczny, modele szeregu czasowe,\n",
    "\n",
    "# LSTM\n",
    "# SimpleRNN\n",
    "# GRU\n",
    "\n",
    "print(f\"długość X_train = {len(X_train)}; długość y_train = {len(y_train)}\")\n",
    "print(f\"długość X_test = {len(X_test)}; długość y_test = {len(y_test)}\")"
   ],
   "outputs": [
    {
     "name": "stdout",
     "output_type": "stream",
     "text": [
      "długość X_train = 10914; długość y_train = 10914\n",
      "długość X_test = 3638; długość y_test = 3638\n"
     ]
    }
   ],
   "execution_count": 15
  },
  {
   "cell_type": "markdown",
   "source": [
    "## spróbowałem wykorzystać LSTM, ale precyzyjność jest 0,7%. Lewiński chyba dobrze mówił, że coś nie tak możemy mieć z innymi modelami."
   ],
   "metadata": {
    "collapsed": false
   },
   "id": "c8d47fc6cb1a78ac"
  },
  {
   "cell_type": "code",
   "source": [
    "from sklearn.preprocessing import StandardScaler\n",
    "# Standardize data\n",
    "scaler = StandardScaler()\n",
    "X_train = scaler.fit_transform(X_train)\n",
    "X_test = scaler.transform(X_test)"
   ],
   "metadata": {
    "collapsed": false,
    "ExecuteTime": {
     "end_time": "2024-06-07T10:17:14.834679Z",
     "start_time": "2024-06-07T10:17:14.808489Z"
    }
   },
   "id": "76f01e216b49ef49",
   "outputs": [],
   "execution_count": 16
  },
  {
   "cell_type": "code",
   "source": [
    "# Reshape data for LSTM input\n",
    "X_train_lstm = X_train.reshape((X_train.shape[0], X_train.shape[1], 1))\n",
    "X_test_lstm = X_test.reshape((X_test.shape[0], X_test.shape[1], 1))"
   ],
   "metadata": {
    "collapsed": false,
    "ExecuteTime": {
     "end_time": "2024-06-07T10:17:14.837901Z",
     "start_time": "2024-06-07T10:17:14.835660Z"
    }
   },
   "id": "d9247e07d6ac3d57",
   "outputs": [],
   "execution_count": 17
  },
  {
   "cell_type": "code",
   "source": [
    "from tensorflow.keras.models import Sequential\n",
    "from tensorflow.keras.layers import Dense, LSTM\n",
    "from tensorflow.keras.optimizers import Adam\n",
    "\n",
    "model_lstm = Sequential()\n",
    "model_lstm.add(LSTM(50, activation='relu', input_shape=(X_train_lstm.shape[1], 1)))\n",
    "model_lstm.add(Dense(1, activation='sigmoid'))\n",
    "model_lstm.compile(optimizer=Adam(learning_rate=0.001), loss='binary_crossentropy', metrics=['accuracy'])\n"
   ],
   "metadata": {
    "collapsed": false,
    "ExecuteTime": {
     "end_time": "2024-06-07T10:17:21.253316Z",
     "start_time": "2024-06-07T10:17:14.839122Z"
    }
   },
   "id": "11fca7c3fc5d0486",
   "outputs": [
    {
     "name": "stderr",
     "output_type": "stream",
     "text": [
      "WARNING:absl:At this time, the v2.11+ optimizer `tf.keras.optimizers.Adam` runs slowly on M1/M2 Macs, please use the legacy Keras optimizer instead, located at `tf.keras.optimizers.legacy.Adam`.\n",
      "WARNING:absl:There is a known slowdown when using v2.11+ Keras optimizers on M1/M2 Macs. Falling back to the legacy Keras optimizer, i.e., `tf.keras.optimizers.legacy.Adam`.\n"
     ]
    }
   ],
   "execution_count": 18
  },
  {
   "cell_type": "code",
   "source": [
    "# Train LSTM model\n",
    "history_lstm = model_lstm.fit(X_train_lstm, y_train, epochs=10, batch_size=32, validation_data=(X_test_lstm, y_test))"
   ],
   "metadata": {
    "collapsed": false,
    "ExecuteTime": {
     "end_time": "2024-06-07T10:19:58.856504Z",
     "start_time": "2024-06-07T10:17:21.254022Z"
    }
   },
   "id": "aa01a61cf3d15065",
   "outputs": [
    {
     "name": "stdout",
     "output_type": "stream",
     "text": [
      "Epoch 1/10\n"
     ]
    },
    {
     "name": "stderr",
     "output_type": "stream",
     "text": [
      "2024-06-07 12:17:21.307923: W tensorflow/tsl/platform/profile_utils/cpu_utils.cc:128] Failed to get CPU frequency: 0 Hz\n"
     ]
    },
    {
     "name": "stdout",
     "output_type": "stream",
     "text": [
      "342/342 [==============================] - 16s 45ms/step - loss: nan - accuracy: 0.3221 - val_loss: nan - val_accuracy: 0.2765\n",
      "Epoch 2/10\n",
      "342/342 [==============================] - 15s 45ms/step - loss: nan - accuracy: 0.2785 - val_loss: nan - val_accuracy: 0.2765\n",
      "Epoch 3/10\n",
      "342/342 [==============================] - 15s 45ms/step - loss: nan - accuracy: 0.2785 - val_loss: nan - val_accuracy: 0.2765\n",
      "Epoch 4/10\n",
      "342/342 [==============================] - 16s 46ms/step - loss: nan - accuracy: 0.2785 - val_loss: nan - val_accuracy: 0.2765\n",
      "Epoch 5/10\n",
      "342/342 [==============================] - 16s 46ms/step - loss: nan - accuracy: 0.2785 - val_loss: nan - val_accuracy: 0.2765\n",
      "Epoch 6/10\n",
      "342/342 [==============================] - 15s 45ms/step - loss: nan - accuracy: 0.2785 - val_loss: nan - val_accuracy: 0.2765\n",
      "Epoch 7/10\n",
      "342/342 [==============================] - 15s 45ms/step - loss: nan - accuracy: 0.2785 - val_loss: nan - val_accuracy: 0.2765\n",
      "Epoch 8/10\n",
      "342/342 [==============================] - 15s 45ms/step - loss: nan - accuracy: 0.2785 - val_loss: nan - val_accuracy: 0.2765\n",
      "Epoch 9/10\n",
      "342/342 [==============================] - 16s 48ms/step - loss: nan - accuracy: 0.2785 - val_loss: nan - val_accuracy: 0.2765\n",
      "Epoch 10/10\n",
      "342/342 [==============================] - 17s 49ms/step - loss: nan - accuracy: 0.2785 - val_loss: nan - val_accuracy: 0.2765\n"
     ]
    }
   ],
   "execution_count": 19
  },
  {
   "cell_type": "code",
   "source": [
    "# Evaluate model\n",
    "lstm_train_acc = model_lstm.evaluate(X_train_lstm, y_train, verbose=0)\n",
    "lstm_test_acc = model_lstm.evaluate(X_test_lstm, y_test, verbose=0)\n",
    "\n",
    "print(f'LSTM - Train Accuracy: {lstm_train_acc[1]:.4f}, Test Accuracy: {lstm_test_acc[1]:.4f}')"
   ],
   "metadata": {
    "collapsed": false,
    "ExecuteTime": {
     "end_time": "2024-06-07T10:20:03.494320Z",
     "start_time": "2024-06-07T10:19:58.857410Z"
    }
   },
   "id": "a2ba13bbb7bdce75",
   "outputs": [
    {
     "name": "stdout",
     "output_type": "stream",
     "text": [
      "LSTM - Train Accuracy: 0.2785, Test Accuracy: 0.2765\n"
     ]
    }
   ],
   "execution_count": 20
  },
  {
   "cell_type": "markdown",
   "id": "2f57761b",
   "metadata": {},
   "source": [
    "## Trenowanie i testowanie modeli\n",
    "W tym notatniku chcemy spróbować kilku modeli i porównać ich wyniki. Do trenowania będziemy używać cross walidacji przy pomocy której postaramy się znaleźć optymalne parametry uczenia.\n",
    "\n",
    "Modelami które wytrenujemy będą:\n",
    "- GradientBoostingClassifier\n",
    "- XGBoost\n",
    "- AdaBoost"
   ]
  },
  {
   "metadata": {},
   "cell_type": "markdown",
   "source": "### GradientBoostingClassifier",
   "id": "549c4cd8afb20513"
  },
  {
   "cell_type": "code",
   "id": "ccc86d55",
   "metadata": {
    "ExecuteTime": {
     "end_time": "2024-06-07T10:20:07.009003Z",
     "start_time": "2024-06-07T10:20:03.495068Z"
    }
   },
   "source": [
    "from sklearn.ensemble import GradientBoostingClassifier\n",
    "from sklearn.model_selection import cross_val_score"
   ],
   "outputs": [],
   "execution_count": 21
  },
  {
   "cell_type": "code",
   "id": "d6c15df9",
   "metadata": {
    "ExecuteTime": {
     "end_time": "2024-06-07T10:20:07.013313Z",
     "start_time": "2024-06-07T10:20:07.010389Z"
    }
   },
   "source": "model_gbc = GradientBoostingClassifier()",
   "outputs": [],
   "execution_count": 22
  },
  {
   "cell_type": "code",
   "id": "bcb446e3",
   "metadata": {
    "ExecuteTime": {
     "end_time": "2024-06-07T10:20:40.706296Z",
     "start_time": "2024-06-07T10:20:07.015915Z"
    }
   },
   "source": "n_scores = cross_val_score(model_gbc, X_train, y_train, cv=2, n_jobs=-1)",
   "outputs": [],
   "execution_count": 23
  },
  {
   "cell_type": "code",
   "id": "c49590f5",
   "metadata": {
    "ExecuteTime": {
     "end_time": "2024-06-07T10:20:40.712133Z",
     "start_time": "2024-06-07T10:20:40.707694Z"
    }
   },
   "source": [
    "n_scores"
   ],
   "outputs": [
    {
     "data": {
      "text/plain": [
       "array([0.92560015, 0.90984057])"
      ]
     },
     "execution_count": 24,
     "metadata": {},
     "output_type": "execute_result"
    }
   ],
   "execution_count": 24
  },
  {
   "cell_type": "code",
   "id": "eb658718",
   "metadata": {
    "ExecuteTime": {
     "end_time": "2024-06-07T10:20:40.717332Z",
     "start_time": "2024-06-07T10:20:40.713757Z"
    }
   },
   "source": [
    "np.mean(n_scores)"
   ],
   "outputs": [
    {
     "data": {
      "text/plain": [
       "0.917720359171706"
      ]
     },
     "execution_count": 25,
     "metadata": {},
     "output_type": "execute_result"
    }
   ],
   "execution_count": 25
  },
  {
   "cell_type": "code",
   "id": "53ede3ec",
   "metadata": {
    "ExecuteTime": {
     "end_time": "2024-06-07T10:20:40.724306Z",
     "start_time": "2024-06-07T10:20:40.719267Z"
    }
   },
   "source": [
    "np.std(n_scores)"
   ],
   "outputs": [
    {
     "data": {
      "text/plain": [
       "0.00787978742899026"
      ]
     },
     "execution_count": 26,
     "metadata": {},
     "output_type": "execute_result"
    }
   ],
   "execution_count": 26
  },
  {
   "cell_type": "code",
   "source": [
    "model_gbc.fit(X_train, y_train)"
   ],
   "metadata": {
    "collapsed": false,
    "ExecuteTime": {
     "end_time": "2024-06-07T10:21:42.223936Z",
     "start_time": "2024-06-07T10:20:40.726269Z"
    }
   },
   "id": "b4049e71bdfc9fe7",
   "outputs": [
    {
     "data": {
      "text/plain": [
       "GradientBoostingClassifier()"
      ],
      "text/html": [
       "<style>#sk-container-id-1 {color: black;background-color: white;}#sk-container-id-1 pre{padding: 0;}#sk-container-id-1 div.sk-toggleable {background-color: white;}#sk-container-id-1 label.sk-toggleable__label {cursor: pointer;display: block;width: 100%;margin-bottom: 0;padding: 0.3em;box-sizing: border-box;text-align: center;}#sk-container-id-1 label.sk-toggleable__label-arrow:before {content: \"▸\";float: left;margin-right: 0.25em;color: #696969;}#sk-container-id-1 label.sk-toggleable__label-arrow:hover:before {color: black;}#sk-container-id-1 div.sk-estimator:hover label.sk-toggleable__label-arrow:before {color: black;}#sk-container-id-1 div.sk-toggleable__content {max-height: 0;max-width: 0;overflow: hidden;text-align: left;background-color: #f0f8ff;}#sk-container-id-1 div.sk-toggleable__content pre {margin: 0.2em;color: black;border-radius: 0.25em;background-color: #f0f8ff;}#sk-container-id-1 input.sk-toggleable__control:checked~div.sk-toggleable__content {max-height: 200px;max-width: 100%;overflow: auto;}#sk-container-id-1 input.sk-toggleable__control:checked~label.sk-toggleable__label-arrow:before {content: \"▾\";}#sk-container-id-1 div.sk-estimator input.sk-toggleable__control:checked~label.sk-toggleable__label {background-color: #d4ebff;}#sk-container-id-1 div.sk-label input.sk-toggleable__control:checked~label.sk-toggleable__label {background-color: #d4ebff;}#sk-container-id-1 input.sk-hidden--visually {border: 0;clip: rect(1px 1px 1px 1px);clip: rect(1px, 1px, 1px, 1px);height: 1px;margin: -1px;overflow: hidden;padding: 0;position: absolute;width: 1px;}#sk-container-id-1 div.sk-estimator {font-family: monospace;background-color: #f0f8ff;border: 1px dotted black;border-radius: 0.25em;box-sizing: border-box;margin-bottom: 0.5em;}#sk-container-id-1 div.sk-estimator:hover {background-color: #d4ebff;}#sk-container-id-1 div.sk-parallel-item::after {content: \"\";width: 100%;border-bottom: 1px solid gray;flex-grow: 1;}#sk-container-id-1 div.sk-label:hover label.sk-toggleable__label {background-color: #d4ebff;}#sk-container-id-1 div.sk-serial::before {content: \"\";position: absolute;border-left: 1px solid gray;box-sizing: border-box;top: 0;bottom: 0;left: 50%;z-index: 0;}#sk-container-id-1 div.sk-serial {display: flex;flex-direction: column;align-items: center;background-color: white;padding-right: 0.2em;padding-left: 0.2em;position: relative;}#sk-container-id-1 div.sk-item {position: relative;z-index: 1;}#sk-container-id-1 div.sk-parallel {display: flex;align-items: stretch;justify-content: center;background-color: white;position: relative;}#sk-container-id-1 div.sk-item::before, #sk-container-id-1 div.sk-parallel-item::before {content: \"\";position: absolute;border-left: 1px solid gray;box-sizing: border-box;top: 0;bottom: 0;left: 50%;z-index: -1;}#sk-container-id-1 div.sk-parallel-item {display: flex;flex-direction: column;z-index: 1;position: relative;background-color: white;}#sk-container-id-1 div.sk-parallel-item:first-child::after {align-self: flex-end;width: 50%;}#sk-container-id-1 div.sk-parallel-item:last-child::after {align-self: flex-start;width: 50%;}#sk-container-id-1 div.sk-parallel-item:only-child::after {width: 0;}#sk-container-id-1 div.sk-dashed-wrapped {border: 1px dashed gray;margin: 0 0.4em 0.5em 0.4em;box-sizing: border-box;padding-bottom: 0.4em;background-color: white;}#sk-container-id-1 div.sk-label label {font-family: monospace;font-weight: bold;display: inline-block;line-height: 1.2em;}#sk-container-id-1 div.sk-label-container {text-align: center;}#sk-container-id-1 div.sk-container {/* jupyter's `normalize.less` sets `[hidden] { display: none; }` but bootstrap.min.css set `[hidden] { display: none !important; }` so we also need the `!important` here to be able to override the default hidden behavior on the sphinx rendered scikit-learn.org. See: https://github.com/scikit-learn/scikit-learn/issues/21755 */display: inline-block !important;position: relative;}#sk-container-id-1 div.sk-text-repr-fallback {display: none;}</style><div id=\"sk-container-id-1\" class=\"sk-top-container\"><div class=\"sk-text-repr-fallback\"><pre>GradientBoostingClassifier()</pre><b>In a Jupyter environment, please rerun this cell to show the HTML representation or trust the notebook. <br />On GitHub, the HTML representation is unable to render, please try loading this page with nbviewer.org.</b></div><div class=\"sk-container\" hidden><div class=\"sk-item\"><div class=\"sk-estimator sk-toggleable\"><input class=\"sk-toggleable__control sk-hidden--visually\" id=\"sk-estimator-id-1\" type=\"checkbox\" checked><label for=\"sk-estimator-id-1\" class=\"sk-toggleable__label sk-toggleable__label-arrow\">GradientBoostingClassifier</label><div class=\"sk-toggleable__content\"><pre>GradientBoostingClassifier()</pre></div></div></div></div></div>"
      ]
     },
     "execution_count": 27,
     "metadata": {},
     "output_type": "execute_result"
    }
   ],
   "execution_count": 27
  },
  {
   "cell_type": "code",
   "source": [
    "print('The accuracy of the Gradient Boosting Classifier on the training data is {:.2f} out of 1'.format(model_gbc.score(X_train, y_train)))\n",
    "print('The accuracy of the Gradient Boosting Classifier on the test data is {:.2f} out of 1'.format(model_gbc.score(X_test, y_test)))"
   ],
   "metadata": {
    "collapsed": false,
    "ExecuteTime": {
     "end_time": "2024-06-07T10:21:42.280441Z",
     "start_time": "2024-06-07T10:21:42.228828Z"
    }
   },
   "id": "5ba1becf6ca55f08",
   "outputs": [
    {
     "name": "stdout",
     "output_type": "stream",
     "text": [
      "The accuracy of the Gradient Boosting Classifier on the training data is 0.95 out of 1\n",
      "The accuracy of the Gradient Boosting Classifier on the test data is 0.94 out of 1\n"
     ]
    }
   ],
   "execution_count": 28
  },
  {
   "cell_type": "markdown",
   "source": "### XGBoost",
   "metadata": {
    "collapsed": false
   },
   "id": "b345e02d00632763"
  },
  {
   "cell_type": "code",
   "source": [
    "from xgboost import XGBClassifier\n",
    "\n",
    "model_xgb = XGBClassifier()"
   ],
   "metadata": {
    "collapsed": false,
    "ExecuteTime": {
     "end_time": "2024-06-07T10:21:42.565326Z",
     "start_time": "2024-06-07T10:21:42.283063Z"
    }
   },
   "id": "13f71cdeb0dc27c5",
   "outputs": [],
   "execution_count": 29
  },
  {
   "cell_type": "code",
   "source": [
    "n_scores_xgb = cross_val_score(model_xgb, X_train, y_train, cv=10, n_jobs=-1)"
   ],
   "metadata": {
    "collapsed": false,
    "ExecuteTime": {
     "end_time": "2024-06-07T10:21:53.671721Z",
     "start_time": "2024-06-07T10:21:42.566828Z"
    }
   },
   "id": "9f2377fcec8ae015",
   "outputs": [],
   "execution_count": 30
  },
  {
   "cell_type": "code",
   "source": [
    "n_scores_xgb"
   ],
   "metadata": {
    "collapsed": false,
    "ExecuteTime": {
     "end_time": "2024-06-07T10:21:53.676934Z",
     "start_time": "2024-06-07T10:21:53.672780Z"
    }
   },
   "id": "d01c0ea546ecb88a",
   "outputs": [
    {
     "data": {
      "text/plain": [
       "array([0.97893773, 0.97344322, 0.96978022, 0.97802198, 0.97066911,\n",
       "       0.97250229, 0.98625115, 0.97525206, 0.96975252, 0.97341888])"
      ]
     },
     "execution_count": 31,
     "metadata": {},
     "output_type": "execute_result"
    }
   ],
   "execution_count": 31
  },
  {
   "cell_type": "code",
   "source": [
    "np.mean(n_scores_xgb)"
   ],
   "metadata": {
    "collapsed": false,
    "ExecuteTime": {
     "end_time": "2024-06-07T10:21:53.681674Z",
     "start_time": "2024-06-07T10:21:53.678007Z"
    }
   },
   "id": "4e133b584749f8c2",
   "outputs": [
    {
     "data": {
      "text/plain": [
       "0.9748029163015414"
      ]
     },
     "execution_count": 32,
     "metadata": {},
     "output_type": "execute_result"
    }
   ],
   "execution_count": 32
  },
  {
   "cell_type": "code",
   "source": [
    "np.std(n_scores_xgb)"
   ],
   "metadata": {
    "collapsed": false,
    "ExecuteTime": {
     "end_time": "2024-06-07T10:21:53.686530Z",
     "start_time": "2024-06-07T10:21:53.682415Z"
    }
   },
   "id": "401d7fd6e5a0ac50",
   "outputs": [
    {
     "data": {
      "text/plain": [
       "0.004853887493911845"
      ]
     },
     "execution_count": 33,
     "metadata": {},
     "output_type": "execute_result"
    }
   ],
   "execution_count": 33
  },
  {
   "cell_type": "code",
   "source": [
    "model_xgb.fit(X_train, y_train)"
   ],
   "metadata": {
    "collapsed": false,
    "ExecuteTime": {
     "end_time": "2024-06-07T10:21:55.082134Z",
     "start_time": "2024-06-07T10:21:53.687435Z"
    }
   },
   "id": "c3c79cea5f90904b",
   "outputs": [
    {
     "data": {
      "text/plain": [
       "XGBClassifier(base_score=None, booster=None, callbacks=None,\n",
       "              colsample_bylevel=None, colsample_bynode=None,\n",
       "              colsample_bytree=None, device=None, early_stopping_rounds=None,\n",
       "              enable_categorical=False, eval_metric=None, feature_types=None,\n",
       "              gamma=None, grow_policy=None, importance_type=None,\n",
       "              interaction_constraints=None, learning_rate=None, max_bin=None,\n",
       "              max_cat_threshold=None, max_cat_to_onehot=None,\n",
       "              max_delta_step=None, max_depth=None, max_leaves=None,\n",
       "              min_child_weight=None, missing=nan, monotone_constraints=None,\n",
       "              multi_strategy=None, n_estimators=None, n_jobs=None,\n",
       "              num_parallel_tree=None, random_state=None, ...)"
      ],
      "text/html": [
       "<style>#sk-container-id-2 {color: black;background-color: white;}#sk-container-id-2 pre{padding: 0;}#sk-container-id-2 div.sk-toggleable {background-color: white;}#sk-container-id-2 label.sk-toggleable__label {cursor: pointer;display: block;width: 100%;margin-bottom: 0;padding: 0.3em;box-sizing: border-box;text-align: center;}#sk-container-id-2 label.sk-toggleable__label-arrow:before {content: \"▸\";float: left;margin-right: 0.25em;color: #696969;}#sk-container-id-2 label.sk-toggleable__label-arrow:hover:before {color: black;}#sk-container-id-2 div.sk-estimator:hover label.sk-toggleable__label-arrow:before {color: black;}#sk-container-id-2 div.sk-toggleable__content {max-height: 0;max-width: 0;overflow: hidden;text-align: left;background-color: #f0f8ff;}#sk-container-id-2 div.sk-toggleable__content pre {margin: 0.2em;color: black;border-radius: 0.25em;background-color: #f0f8ff;}#sk-container-id-2 input.sk-toggleable__control:checked~div.sk-toggleable__content {max-height: 200px;max-width: 100%;overflow: auto;}#sk-container-id-2 input.sk-toggleable__control:checked~label.sk-toggleable__label-arrow:before {content: \"▾\";}#sk-container-id-2 div.sk-estimator input.sk-toggleable__control:checked~label.sk-toggleable__label {background-color: #d4ebff;}#sk-container-id-2 div.sk-label input.sk-toggleable__control:checked~label.sk-toggleable__label {background-color: #d4ebff;}#sk-container-id-2 input.sk-hidden--visually {border: 0;clip: rect(1px 1px 1px 1px);clip: rect(1px, 1px, 1px, 1px);height: 1px;margin: -1px;overflow: hidden;padding: 0;position: absolute;width: 1px;}#sk-container-id-2 div.sk-estimator {font-family: monospace;background-color: #f0f8ff;border: 1px dotted black;border-radius: 0.25em;box-sizing: border-box;margin-bottom: 0.5em;}#sk-container-id-2 div.sk-estimator:hover {background-color: #d4ebff;}#sk-container-id-2 div.sk-parallel-item::after {content: \"\";width: 100%;border-bottom: 1px solid gray;flex-grow: 1;}#sk-container-id-2 div.sk-label:hover label.sk-toggleable__label {background-color: #d4ebff;}#sk-container-id-2 div.sk-serial::before {content: \"\";position: absolute;border-left: 1px solid gray;box-sizing: border-box;top: 0;bottom: 0;left: 50%;z-index: 0;}#sk-container-id-2 div.sk-serial {display: flex;flex-direction: column;align-items: center;background-color: white;padding-right: 0.2em;padding-left: 0.2em;position: relative;}#sk-container-id-2 div.sk-item {position: relative;z-index: 1;}#sk-container-id-2 div.sk-parallel {display: flex;align-items: stretch;justify-content: center;background-color: white;position: relative;}#sk-container-id-2 div.sk-item::before, #sk-container-id-2 div.sk-parallel-item::before {content: \"\";position: absolute;border-left: 1px solid gray;box-sizing: border-box;top: 0;bottom: 0;left: 50%;z-index: -1;}#sk-container-id-2 div.sk-parallel-item {display: flex;flex-direction: column;z-index: 1;position: relative;background-color: white;}#sk-container-id-2 div.sk-parallel-item:first-child::after {align-self: flex-end;width: 50%;}#sk-container-id-2 div.sk-parallel-item:last-child::after {align-self: flex-start;width: 50%;}#sk-container-id-2 div.sk-parallel-item:only-child::after {width: 0;}#sk-container-id-2 div.sk-dashed-wrapped {border: 1px dashed gray;margin: 0 0.4em 0.5em 0.4em;box-sizing: border-box;padding-bottom: 0.4em;background-color: white;}#sk-container-id-2 div.sk-label label {font-family: monospace;font-weight: bold;display: inline-block;line-height: 1.2em;}#sk-container-id-2 div.sk-label-container {text-align: center;}#sk-container-id-2 div.sk-container {/* jupyter's `normalize.less` sets `[hidden] { display: none; }` but bootstrap.min.css set `[hidden] { display: none !important; }` so we also need the `!important` here to be able to override the default hidden behavior on the sphinx rendered scikit-learn.org. See: https://github.com/scikit-learn/scikit-learn/issues/21755 */display: inline-block !important;position: relative;}#sk-container-id-2 div.sk-text-repr-fallback {display: none;}</style><div id=\"sk-container-id-2\" class=\"sk-top-container\"><div class=\"sk-text-repr-fallback\"><pre>XGBClassifier(base_score=None, booster=None, callbacks=None,\n",
       "              colsample_bylevel=None, colsample_bynode=None,\n",
       "              colsample_bytree=None, device=None, early_stopping_rounds=None,\n",
       "              enable_categorical=False, eval_metric=None, feature_types=None,\n",
       "              gamma=None, grow_policy=None, importance_type=None,\n",
       "              interaction_constraints=None, learning_rate=None, max_bin=None,\n",
       "              max_cat_threshold=None, max_cat_to_onehot=None,\n",
       "              max_delta_step=None, max_depth=None, max_leaves=None,\n",
       "              min_child_weight=None, missing=nan, monotone_constraints=None,\n",
       "              multi_strategy=None, n_estimators=None, n_jobs=None,\n",
       "              num_parallel_tree=None, random_state=None, ...)</pre><b>In a Jupyter environment, please rerun this cell to show the HTML representation or trust the notebook. <br />On GitHub, the HTML representation is unable to render, please try loading this page with nbviewer.org.</b></div><div class=\"sk-container\" hidden><div class=\"sk-item\"><div class=\"sk-estimator sk-toggleable\"><input class=\"sk-toggleable__control sk-hidden--visually\" id=\"sk-estimator-id-2\" type=\"checkbox\" checked><label for=\"sk-estimator-id-2\" class=\"sk-toggleable__label sk-toggleable__label-arrow\">XGBClassifier</label><div class=\"sk-toggleable__content\"><pre>XGBClassifier(base_score=None, booster=None, callbacks=None,\n",
       "              colsample_bylevel=None, colsample_bynode=None,\n",
       "              colsample_bytree=None, device=None, early_stopping_rounds=None,\n",
       "              enable_categorical=False, eval_metric=None, feature_types=None,\n",
       "              gamma=None, grow_policy=None, importance_type=None,\n",
       "              interaction_constraints=None, learning_rate=None, max_bin=None,\n",
       "              max_cat_threshold=None, max_cat_to_onehot=None,\n",
       "              max_delta_step=None, max_depth=None, max_leaves=None,\n",
       "              min_child_weight=None, missing=nan, monotone_constraints=None,\n",
       "              multi_strategy=None, n_estimators=None, n_jobs=None,\n",
       "              num_parallel_tree=None, random_state=None, ...)</pre></div></div></div></div></div>"
      ]
     },
     "execution_count": 34,
     "metadata": {},
     "output_type": "execute_result"
    }
   ],
   "execution_count": 34
  },
  {
   "cell_type": "code",
   "source": [
    "print('The accuracy of the model with best parameters on the training data is {:.8f} out of 1'.format(model_xgb.score(X_train, y_train)))\n",
    "print('The accuracy of the model with best parameters on the test data is {:.2f} out of 1'.format(model_xgb.score(X_test, y_test)))"
   ],
   "metadata": {
    "collapsed": false,
    "ExecuteTime": {
     "end_time": "2024-06-07T10:21:55.123286Z",
     "start_time": "2024-06-07T10:21:55.084366Z"
    }
   },
   "id": "772a7d9775d57ed1",
   "outputs": [
    {
     "name": "stdout",
     "output_type": "stream",
     "text": [
      "The accuracy of the model with best parameters on the training data is 1.00000000 out of 1\n",
      "The accuracy of the model with best parameters on the test data is 0.98 out of 1\n"
     ]
    }
   ],
   "execution_count": 35
  },
  {
   "cell_type": "markdown",
   "source": [
    "### AdaBoost - Adaptive Boosting"
   ],
   "metadata": {
    "collapsed": false
   },
   "id": "324424d6df181e93"
  },
  {
   "cell_type": "code",
   "source": [
    "from sklearn.ensemble import AdaBoostClassifier"
   ],
   "metadata": {
    "collapsed": false,
    "ExecuteTime": {
     "end_time": "2024-06-07T10:21:55.128885Z",
     "start_time": "2024-06-07T10:21:55.125165Z"
    }
   },
   "id": "cc773f6692a7a94",
   "outputs": [],
   "execution_count": 36
  },
  {
   "cell_type": "code",
   "source": [
    "model_ada = AdaBoostClassifier()"
   ],
   "metadata": {
    "collapsed": false,
    "ExecuteTime": {
     "end_time": "2024-06-07T10:21:55.137059Z",
     "start_time": "2024-06-07T10:21:55.133203Z"
    }
   },
   "id": "ec9c40793b8a6b63",
   "outputs": [],
   "execution_count": 37
  },
  {
   "cell_type": "code",
   "source": "n_scores_ada = cross_val_score(model_ada, X_train, y_train, cv=2, n_jobs=-1)",
   "metadata": {
    "collapsed": false,
    "ExecuteTime": {
     "end_time": "2024-06-07T10:22:01.290140Z",
     "start_time": "2024-06-07T10:21:55.139691Z"
    }
   },
   "id": "dc43d35db4dd6a95",
   "outputs": [],
   "execution_count": 38
  },
  {
   "cell_type": "code",
   "source": [
    "n_scores_ada"
   ],
   "metadata": {
    "collapsed": false,
    "ExecuteTime": {
     "end_time": "2024-06-07T10:22:01.294038Z",
     "start_time": "2024-06-07T10:22:01.291011Z"
    }
   },
   "id": "c7f912dd3e815df5",
   "outputs": [
    {
     "data": {
      "text/plain": [
       "array([0.87025838, 0.85798058])"
      ]
     },
     "execution_count": 39,
     "metadata": {},
     "output_type": "execute_result"
    }
   ],
   "execution_count": 39
  },
  {
   "cell_type": "code",
   "source": [
    "np.mean(n_scores_ada)"
   ],
   "metadata": {
    "collapsed": false,
    "ExecuteTime": {
     "end_time": "2024-06-07T10:22:01.298346Z",
     "start_time": "2024-06-07T10:22:01.294826Z"
    }
   },
   "id": "51491464a272ba53",
   "outputs": [
    {
     "data": {
      "text/plain": [
       "0.864119479567528"
      ]
     },
     "execution_count": 40,
     "metadata": {},
     "output_type": "execute_result"
    }
   ],
   "execution_count": 40
  },
  {
   "cell_type": "code",
   "source": [
    "np.std(n_scores_ada)"
   ],
   "metadata": {
    "collapsed": false,
    "ExecuteTime": {
     "end_time": "2024-06-07T10:22:01.303157Z",
     "start_time": "2024-06-07T10:22:01.299094Z"
    }
   },
   "id": "933cba4cb1026525",
   "outputs": [
    {
     "data": {
      "text/plain": [
       "0.006138904159794734"
      ]
     },
     "execution_count": 41,
     "metadata": {},
     "output_type": "execute_result"
    }
   ],
   "execution_count": 41
  },
  {
   "cell_type": "code",
   "source": [
    "model_ada.fit(X_train, y_train)"
   ],
   "metadata": {
    "collapsed": false,
    "ExecuteTime": {
     "end_time": "2024-06-07T10:22:13.577074Z",
     "start_time": "2024-06-07T10:22:01.303992Z"
    }
   },
   "id": "5dae24e5e18c9e8d",
   "outputs": [
    {
     "data": {
      "text/plain": [
       "AdaBoostClassifier()"
      ],
      "text/html": [
       "<style>#sk-container-id-3 {color: black;background-color: white;}#sk-container-id-3 pre{padding: 0;}#sk-container-id-3 div.sk-toggleable {background-color: white;}#sk-container-id-3 label.sk-toggleable__label {cursor: pointer;display: block;width: 100%;margin-bottom: 0;padding: 0.3em;box-sizing: border-box;text-align: center;}#sk-container-id-3 label.sk-toggleable__label-arrow:before {content: \"▸\";float: left;margin-right: 0.25em;color: #696969;}#sk-container-id-3 label.sk-toggleable__label-arrow:hover:before {color: black;}#sk-container-id-3 div.sk-estimator:hover label.sk-toggleable__label-arrow:before {color: black;}#sk-container-id-3 div.sk-toggleable__content {max-height: 0;max-width: 0;overflow: hidden;text-align: left;background-color: #f0f8ff;}#sk-container-id-3 div.sk-toggleable__content pre {margin: 0.2em;color: black;border-radius: 0.25em;background-color: #f0f8ff;}#sk-container-id-3 input.sk-toggleable__control:checked~div.sk-toggleable__content {max-height: 200px;max-width: 100%;overflow: auto;}#sk-container-id-3 input.sk-toggleable__control:checked~label.sk-toggleable__label-arrow:before {content: \"▾\";}#sk-container-id-3 div.sk-estimator input.sk-toggleable__control:checked~label.sk-toggleable__label {background-color: #d4ebff;}#sk-container-id-3 div.sk-label input.sk-toggleable__control:checked~label.sk-toggleable__label {background-color: #d4ebff;}#sk-container-id-3 input.sk-hidden--visually {border: 0;clip: rect(1px 1px 1px 1px);clip: rect(1px, 1px, 1px, 1px);height: 1px;margin: -1px;overflow: hidden;padding: 0;position: absolute;width: 1px;}#sk-container-id-3 div.sk-estimator {font-family: monospace;background-color: #f0f8ff;border: 1px dotted black;border-radius: 0.25em;box-sizing: border-box;margin-bottom: 0.5em;}#sk-container-id-3 div.sk-estimator:hover {background-color: #d4ebff;}#sk-container-id-3 div.sk-parallel-item::after {content: \"\";width: 100%;border-bottom: 1px solid gray;flex-grow: 1;}#sk-container-id-3 div.sk-label:hover label.sk-toggleable__label {background-color: #d4ebff;}#sk-container-id-3 div.sk-serial::before {content: \"\";position: absolute;border-left: 1px solid gray;box-sizing: border-box;top: 0;bottom: 0;left: 50%;z-index: 0;}#sk-container-id-3 div.sk-serial {display: flex;flex-direction: column;align-items: center;background-color: white;padding-right: 0.2em;padding-left: 0.2em;position: relative;}#sk-container-id-3 div.sk-item {position: relative;z-index: 1;}#sk-container-id-3 div.sk-parallel {display: flex;align-items: stretch;justify-content: center;background-color: white;position: relative;}#sk-container-id-3 div.sk-item::before, #sk-container-id-3 div.sk-parallel-item::before {content: \"\";position: absolute;border-left: 1px solid gray;box-sizing: border-box;top: 0;bottom: 0;left: 50%;z-index: -1;}#sk-container-id-3 div.sk-parallel-item {display: flex;flex-direction: column;z-index: 1;position: relative;background-color: white;}#sk-container-id-3 div.sk-parallel-item:first-child::after {align-self: flex-end;width: 50%;}#sk-container-id-3 div.sk-parallel-item:last-child::after {align-self: flex-start;width: 50%;}#sk-container-id-3 div.sk-parallel-item:only-child::after {width: 0;}#sk-container-id-3 div.sk-dashed-wrapped {border: 1px dashed gray;margin: 0 0.4em 0.5em 0.4em;box-sizing: border-box;padding-bottom: 0.4em;background-color: white;}#sk-container-id-3 div.sk-label label {font-family: monospace;font-weight: bold;display: inline-block;line-height: 1.2em;}#sk-container-id-3 div.sk-label-container {text-align: center;}#sk-container-id-3 div.sk-container {/* jupyter's `normalize.less` sets `[hidden] { display: none; }` but bootstrap.min.css set `[hidden] { display: none !important; }` so we also need the `!important` here to be able to override the default hidden behavior on the sphinx rendered scikit-learn.org. See: https://github.com/scikit-learn/scikit-learn/issues/21755 */display: inline-block !important;position: relative;}#sk-container-id-3 div.sk-text-repr-fallback {display: none;}</style><div id=\"sk-container-id-3\" class=\"sk-top-container\"><div class=\"sk-text-repr-fallback\"><pre>AdaBoostClassifier()</pre><b>In a Jupyter environment, please rerun this cell to show the HTML representation or trust the notebook. <br />On GitHub, the HTML representation is unable to render, please try loading this page with nbviewer.org.</b></div><div class=\"sk-container\" hidden><div class=\"sk-item\"><div class=\"sk-estimator sk-toggleable\"><input class=\"sk-toggleable__control sk-hidden--visually\" id=\"sk-estimator-id-3\" type=\"checkbox\" checked><label for=\"sk-estimator-id-3\" class=\"sk-toggleable__label sk-toggleable__label-arrow\">AdaBoostClassifier</label><div class=\"sk-toggleable__content\"><pre>AdaBoostClassifier()</pre></div></div></div></div></div>"
      ]
     },
     "execution_count": 42,
     "metadata": {},
     "output_type": "execute_result"
    }
   ],
   "execution_count": 42
  },
  {
   "cell_type": "code",
   "source": [
    "print('The accuracy of the Adaptive Boosting Classifier on the training data is {:.2f} out of 1'.format(model_ada.score(X_train, y_train)))\n",
    "print('The accuracy of the Adaptive Boosting Classifier on the test data is {:.2f} out of 1'.format(model_ada.score(X_test, y_test)))"
   ],
   "metadata": {
    "collapsed": false,
    "ExecuteTime": {
     "end_time": "2024-06-07T10:22:13.795181Z",
     "start_time": "2024-06-07T10:22:13.578313Z"
    }
   },
   "id": "28eae4c69a626bd1",
   "outputs": [
    {
     "name": "stdout",
     "output_type": "stream",
     "text": [
      "The accuracy of the Adaptive Boosting Classifier on the training data is 0.88 out of 1\n",
      "The accuracy of the Adaptive Boosting Classifier on the test data is 0.87 out of 1\n"
     ]
    }
   ],
   "execution_count": 43
  }
 ],
 "metadata": {
  "kernelspec": {
   "display_name": "Python 3",
   "language": "python",
   "name": "python3"
  },
  "language_info": {
   "codemirror_mode": {
    "name": "ipython",
    "version": 3
   },
   "file_extension": ".py",
   "mimetype": "text/x-python",
   "name": "python",
   "nbconvert_exporter": "python",
   "pygments_lexer": "ipython3",
   "version": "3.11.9"
  }
 },
 "nbformat": 4,
 "nbformat_minor": 5
}
